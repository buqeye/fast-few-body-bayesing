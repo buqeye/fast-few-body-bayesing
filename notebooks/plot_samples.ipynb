{
 "cells": [
  {
   "cell_type": "code",
   "execution_count": 1,
   "metadata": {},
   "outputs": [],
   "source": [
    "%load_ext autoreload\n",
    "%autoreload 2\n",
    "%matplotlib inline"
   ]
  },
  {
   "cell_type": "code",
   "execution_count": 43,
   "metadata": {},
   "outputs": [],
   "source": [
    "import numpy as np\n",
    "import scipy as sp\n",
    "from scipy import stats\n",
    "import matplotlib as mpl\n",
    "import matplotlib.pyplot as plt\n",
    "from matplotlib.ticker import (\n",
    "    AutoMinorLocator,\n",
    "    AutoLocator,\n",
    "    MultipleLocator,\n",
    "    MaxNLocator,\n",
    ")\n",
    "import pandas as pd\n",
    "import seaborn as sns\n",
    "import corner\n",
    "from os import path\n",
    "from os.path import join\n",
    "import h5py\n",
    "from ruamel.yaml import YAML\n",
    "\n",
    "from scipy import optimize\n",
    "from scipy import stats\n",
    "from scipy import integrate\n",
    "\n",
    "from fit3bf import setup_rc_params\n",
    "from fit3bf.graphs import plot_true_vs_approx\n",
    "from fit3bf import param_names_chiral, nnlo_sat_lecs\n",
    "from fit3bf.sampling import TruncationDistribution\n",
    "from fit3bf.constants import obs_names_tex_map, param_names_tex_map\n",
    "from fit3bf.observables import from_hdf5\n",
    "from fit3bf.utils import find_contour_levels\n",
    "\n",
    "from fit3bf.graphs import confidence_ellipse, confidence_ellipse_mean_cov, plot_gaussian_approximation, plot_student_t_approximation\n",
    "from fit3bf.graphs import confidence_ellipse_student_t_from_params, plot_student_t_from_params, optimize_mv_student_t\n",
    "from fit3bf.graphs import radial_student_t_integral, mass_under_student_t_at_n_sigma\n",
    "from fit3bf.graphs import plot_gaussian_from_params\n",
    "from fit3bf.graphs import pretty_corner"
   ]
  },
  {
   "cell_type": "code",
   "execution_count": 3,
   "metadata": {},
   "outputs": [],
   "source": [
    "setup_rc_params(constrained_layout=False, usetex=True)\n",
    "mpl.rcParams['figure.dpi'] = 120"
   ]
  },
  {
   "cell_type": "markdown",
   "metadata": {},
   "source": [
    "# User Input:\n",
    "\n",
    "Pick the directory where the emulators and the samples are stored"
   ]
  },
  {
   "cell_type": "code",
   "execution_count": 4,
   "metadata": {},
   "outputs": [],
   "source": [
    "evc_directory = '../scripts/output/NNLO_450/3a52d8f630f20df7a76019814a7ca86e'\n",
    "\n",
    "# sample_subdirectory = 'H3-He4-He4-radius-H3-halflife_2021-04-06-07-05-41'\n",
    "sample_subdirectory = 'H3-He4-He4-radius-H3-halflife_2021-04-06-15-42-47'\n",
    "sample_directory = join(evc_directory, sample_subdirectory)\n",
    "\n",
    "sample_file = 'samples.h5'\n",
    "sample_params_file = 'sampling.yaml'\n",
    "# sample_params_file = 'sampling_3bf_only.yaml'\n",
    "evc_params_file = 'NNLO_450.yaml'"
   ]
  },
  {
   "cell_type": "markdown",
   "metadata": {},
   "source": [
    "# Everything else should \"just work\"\n",
    "\n",
    "Load up the parameters that were used to make the samples and emulators"
   ]
  },
  {
   "cell_type": "code",
   "execution_count": 5,
   "metadata": {},
   "outputs": [],
   "source": [
    "yaml = YAML(typ=\"safe\")\n",
    "with open(join(sample_directory, sample_params_file), \"r\") as p_file:\n",
    "    sample_parameters = yaml.load(p_file)\n",
    "with open(join(evc_directory, evc_params_file), \"r\") as p_file2:\n",
    "    evc_parameters = yaml.load(p_file2)\n",
    "\n",
    "with h5py.File(join(sample_directory, sample_file), 'r') as file:\n",
    "    predictions = file['mcmc']['blobs'][:]\n",
    "    observables = predictions.dtype.names\n",
    "    # unpack the predictions recarray\n",
    "    predictions = predictions[:, :, None].view('<f8')\n",
    "    samples = file['mcmc']['chain'][:]\n",
    "    parameter_names = file['mcmc'][\n",
    "        'parameter_names'\n",
    "    ][:]\n",
    "\n",
    "    posterior_parameter_names = file['mcmc'][\n",
    "        'posterior_parameter_names'\n",
    "    ][:]\n",
    "    prior_parameter_names = [name for name in parameter_names if name not in posterior_parameter_names]\n",
    "    parameter_names_with_hyperparameters = file['mcmc'][\n",
    "        'parameter_names_with_hyperparameters'\n",
    "    ][:]\n",
    "#     parameter_names_with_hyperparameters = np.array(['cbar', 'Q'] + parameter_names)\n",
    "    \n",
    "    predictions_flat = predictions.reshape((-1, predictions.shape[-1]))\n",
    "    samples_flat = samples.reshape((-1, samples.shape[-1]))\n",
    "    all_lec_mask = np.isin(parameter_names_with_hyperparameters, parameter_names)\n",
    "    lec_mask = np.isin(parameter_names_with_hyperparameters, prior_parameter_names)\n",
    "    post_lec_mask = all_lec_mask & ~lec_mask\n",
    "    all_lec_samples_flat = samples_flat[:, all_lec_mask]\n",
    "    post_lec_samples_flat = samples_flat[:, post_lec_mask]\n",
    "    lec_samples_flat = samples_flat[:, lec_mask]\n",
    "    hyperparameter_samples_flat = samples_flat[:, ~all_lec_mask]\n",
    "    hyperparameter_names = parameter_names_with_hyperparameters[~all_lec_mask]\n",
    "    n_post_lecs = len(posterior_parameter_names)\n",
    "    n_all_lecs = len(parameter_names)\n",
    "    \n",
    "experiment = [sample_parameters['observables'][obs]['experiment_central_value'] for obs in observables]\n",
    "experiment_stdv = [sample_parameters['observables'][obs]['experiment_standard_deviation'] for obs in observables]"
   ]
  },
  {
   "cell_type": "markdown",
   "metadata": {},
   "source": [
    "## Compute mean and uncertainty in PPD"
   ]
  },
  {
   "cell_type": "code",
   "execution_count": 6,
   "metadata": {},
   "outputs": [],
   "source": [
    "def hdi_from_data(ary, hdi_prob, skipna=True):\n",
    "    \"\"\"Compute hpi over the flattened array.\"\"\"\n",
    "    ary = ary.flatten()\n",
    "    if skipna:\n",
    "        nans = np.isnan(ary)\n",
    "        if not nans.all():\n",
    "            ary = ary[~nans]\n",
    "    n = len(ary)\n",
    "\n",
    "    ary = np.sort(ary)\n",
    "    interval_idx_inc = int(np.floor(hdi_prob * n))\n",
    "    n_intervals = n - interval_idx_inc\n",
    "    interval_width = np.subtract(ary[interval_idx_inc:], ary[:n_intervals], dtype=np.float_)\n",
    "\n",
    "    if len(interval_width) == 0:\n",
    "        raise ValueError(\"Too few elements for interval calculation. \")\n",
    "\n",
    "    min_idx = np.argmin(interval_width)\n",
    "    hdi_min = ary[min_idx]\n",
    "    hdi_max = ary[min_idx + interval_idx_inc]\n",
    "\n",
    "    hdi_interval = np.array([hdi_min, hdi_max])\n",
    "\n",
    "    return hdi_interval"
   ]
  },
  {
   "cell_type": "markdown",
   "metadata": {},
   "source": [
    "Check that it works"
   ]
  },
  {
   "cell_type": "code",
   "execution_count": 7,
   "metadata": {
    "scrolled": true
   },
   "outputs": [
    {
     "data": {
      "text/plain": [
       "array([-1.01203114,  0.97823027])"
      ]
     },
     "execution_count": 7,
     "metadata": {},
     "output_type": "execute_result"
    }
   ],
   "source": [
    "# import arviz as az\n",
    "hdi_from_data(np.random.normal(size=500000), hdi_prob=.68)"
   ]
  },
  {
   "cell_type": "markdown",
   "metadata": {},
   "source": [
    "Compute the means and HPD intervals that go in the table"
   ]
  },
  {
   "cell_type": "code",
   "execution_count": 8,
   "metadata": {},
   "outputs": [
    {
     "name": "stdout",
     "output_type": "stream",
     "text": [
      "H3 -8.518644244849602 [-8.61253023 -8.45309593]\n",
      "He4 -28.193849322825425 [-28.67020339 -27.85279349]\n",
      "He4-radius 1.454685225381995 [1.44137773 1.46342199]\n",
      "H3-halflife 1127.2709330897474 [1109.12760064 1150.8765108 ]\n"
     ]
    }
   ],
   "source": [
    "for i, obs in enumerate(observables):\n",
    "    \n",
    "    pred_obs_i = predictions_flat[:, i]\n",
    "    hdi_obs_i = hdi_from_data(pred_obs_i, hdi_prob=.68)\n",
    "    print(obs, np.mean(pred_obs_i), hdi_obs_i)"
   ]
  },
  {
   "cell_type": "markdown",
   "metadata": {},
   "source": [
    "## Setup of a bunch of strings and objects that will make the plots nicer\n",
    "\n",
    "Create the truncation error object that will be used to make the $\\bar c$--$Q$ pdf"
   ]
  },
  {
   "cell_type": "code",
   "execution_count": 9,
   "metadata": {},
   "outputs": [
    {
     "name": "stdout",
     "output_type": "stream",
     "text": [
      "[   8.482    28.296     1.4552 1129.6   ] [ True  True  True False]\n"
     ]
    }
   ],
   "source": [
    "hyp = sample_parameters[\"hyperparameters\"]\n",
    "\n",
    "y_ref = hyp[\"y_ref\"]\n",
    "truncation_ignore_observables = hyp[\"truncation_ignore_observables\"]\n",
    "if y_ref == \"expt\":\n",
    "    y_ref = np.array(np.abs(experiment))\n",
    "    if truncation_ignore_observables is not None:\n",
    "        trunc_dist_obs_mask = ~np.isin(observables, truncation_ignore_observables)\n",
    "        print(y_ref, trunc_dist_obs_mask)\n",
    "        y_ref = y_ref[trunc_dist_obs_mask]\n",
    "else:\n",
    "    y_ref = np.array(y_ref)\n",
    "\n",
    "y_lower = []\n",
    "for i, obs in enumerate(observables):\n",
    "    if trunc_dist_obs_mask[i]:\n",
    "        y_lower.append(hyp[\"y_lower\"][obs])\n",
    "y_lower = np.asarray(y_lower)\n",
    "    \n",
    "trunc_dist = TruncationDistribution(\n",
    "    df_0=hyp[\"cbar\"][\"degrees_of_freedom\"],\n",
    "    scale_0=hyp[\"cbar\"][\"scale\"],\n",
    "    a_0=hyp[\"Q\"][\"a\"],\n",
    "    b_0=hyp[\"Q\"][\"b\"],\n",
    "    y_lower=y_lower,\n",
    "    orders_lower=np.atleast_1d(hyp[\"orders_lower\"]),\n",
    "    ignore_orders=hyp[\"ignore_orders\"],\n",
    "    y_ref=y_ref,\n",
    "    update_prior=True,\n",
    "    deg_quadrature=hyp[\"deg_quadrature\"]\n",
    ")\n",
    "\n",
    "mean_predictions_trunc = predictions_flat.mean(axis=0)[trunc_dist_obs_mask]"
   ]
  },
  {
   "cell_type": "code",
   "execution_count": 10,
   "metadata": {},
   "outputs": [],
   "source": [
    "h3_obs = from_hdf5(join(evc_directory, f\"H3.h5\"))\n",
    "p_train = h3_obs.p_train"
   ]
  },
  {
   "cell_type": "code",
   "execution_count": 11,
   "metadata": {},
   "outputs": [
    {
     "data": {
      "text/plain": [
       "False"
      ]
     },
     "execution_count": 11,
     "metadata": {},
     "output_type": "execute_result"
    }
   ],
   "source": [
    "include_in_emulator = evc_parameters['parameters']['posterior_parameters'][\"include_in_emulator\"]\n",
    "use_gradients = include_in_emulator == 'gradient'\n",
    "use_gradients"
   ]
  },
  {
   "cell_type": "code",
   "execution_count": 12,
   "metadata": {},
   "outputs": [
    {
     "data": {
      "text/plain": [
       "0.375"
      ]
     },
     "execution_count": 12,
     "metadata": {},
     "output_type": "execute_result"
    }
   ],
   "source": [
    "sample_parameters['hyperparameters']['Q']['a'] / \\\n",
    "(sample_parameters['hyperparameters']['Q']['a'] + sample_parameters['hyperparameters']['Q']['b'])"
   ]
  },
  {
   "cell_type": "code",
   "execution_count": 13,
   "metadata": {},
   "outputs": [],
   "source": [
    "cbar_fixed = sample_parameters['hyperparameters']['cbar']['fixed_value']\n",
    "if cbar_fixed is None:\n",
    "    cbar_string = (\n",
    "        fr\"$\\bar c^2 \\sim \\chi^{{-2}}_{{{sample_parameters['hyperparameters']['cbar']['degrees_of_freedom']}}}\"\n",
    "        f\"({sample_parameters['hyperparameters']['cbar']['scale']}^2)$\"\n",
    "    )\n",
    "else:\n",
    "    cbar_string = fr\"$\\bar c = {cbar_fixed}$\"\n",
    "    \n",
    "    \n",
    "Q_fixed = sample_parameters['hyperparameters']['Q']['fixed_value']\n",
    "if Q_fixed is None:\n",
    "    Q_string = (\n",
    "        fr\"$Q \\sim \\textup{{Beta}}({sample_parameters['hyperparameters']['Q']['a']},\\,\"\n",
    "        f\"{sample_parameters['hyperparameters']['Q']['b']}$)\"\n",
    "    )\n",
    "else:\n",
    "    Q_string = fr\"$Q = {Q_fixed}$\"\n",
    "\n",
    "abar_string = fr\"$\\bar a^2 = {sample_parameters['hyperparameters']['prior_standard_deviation']}^2$\""
   ]
  },
  {
   "cell_type": "code",
   "execution_count": 14,
   "metadata": {},
   "outputs": [],
   "source": [
    "obs_names_units_map = {\n",
    "    'H3': r'MeV',\n",
    "    'He3': r'MeV',\n",
    "    'He4': r'MeV',\n",
    "    'He4-radius': r'fm',\n",
    "    'H3-halflife': r's',\n",
    "}\n",
    "obs_names_tex = [obs_names_tex_map[obs] for obs in observables]\n",
    "obs_names_tex_with_units = [obs_names_tex_map[obs] + fr\"\\,[{obs_names_units_map[obs]}]\" for obs in observables]"
   ]
  },
  {
   "cell_type": "code",
   "execution_count": 15,
   "metadata": {},
   "outputs": [
    {
     "data": {
      "text/plain": [
       "['$E({}^3{\\\\rm H})$\\\\,[MeV]',\n",
       " '$E({}^4{\\\\rm He})$\\\\,[MeV]',\n",
       " '$r({}^4{\\\\rm He})$\\\\,[fm]',\n",
       " '$fT_{1/2}$\\\\,[s]']"
      ]
     },
     "execution_count": 15,
     "metadata": {},
     "output_type": "execute_result"
    }
   ],
   "source": [
    "obs_names_tex_with_units"
   ]
  },
  {
   "cell_type": "code",
   "execution_count": 16,
   "metadata": {},
   "outputs": [],
   "source": [
    "obs_names_tex_mat = ''\n",
    "n_cols = 2\n",
    "for i, obs_name in enumerate(obs_names_tex):\n",
    "    obs_names_tex_mat += obs_name\n",
    "    if i % n_cols == n_cols - 1 and i != len(obs_names_tex)-1:\n",
    "        obs_names_tex_mat += '\\n'\n",
    "    elif i != len(obs_names_tex)-1:\n",
    "         obs_names_tex_mat += fr',~~'"
   ]
  },
  {
   "cell_type": "code",
   "execution_count": 17,
   "metadata": {},
   "outputs": [],
   "source": [
    "samples_description_string = '\\n'.join(\n",
    "    ['\\\\textbf{Observables:}', obs_names_tex_mat] +\n",
    "    ['', \"\\\\textbf{Hyperparameters:}\", abar_string, cbar_string, Q_string]\n",
    ")"
   ]
  },
  {
   "cell_type": "code",
   "execution_count": 18,
   "metadata": {},
   "outputs": [
    {
     "name": "stdout",
     "output_type": "stream",
     "text": [
      "\\textbf{Observables:}\n",
      "$E({}^3{\\rm H})$,~~$E({}^4{\\rm He})$\n",
      "$r({}^4{\\rm He})$,~~$fT_{1/2}$\n",
      "\n",
      "\\textbf{Hyperparameters:}\n",
      "$\\bar a^2 = 5.0^2$\n",
      "$\\bar c^2 \\sim \\chi^{-2}_{1.5}(1.5^2)$\n",
      "$Q \\sim \\textup{Beta}(3,\\,5$)\n"
     ]
    }
   ],
   "source": [
    "print(samples_description_string)"
   ]
  },
  {
   "cell_type": "code",
   "execution_count": 19,
   "metadata": {},
   "outputs": [],
   "source": [
    "with open(\"../scripts/parameters/nnlo_450_nn_lecs.yaml\", \"r\") as input_file:\n",
    "    post_param_map = yaml.load(input_file)\n",
    "    nn_lecs_loc = np.array(\n",
    "        [post_param_map[name] for name in posterior_parameter_names]\n",
    "    )\n",
    "\n",
    "nn_lecs_cov = np.load(\"../scripts/nn_lecs_cov.npy\")"
   ]
  },
  {
   "cell_type": "code",
   "execution_count": 20,
   "metadata": {},
   "outputs": [
    {
     "data": {
      "text/plain": [
       "array([[ 6.22e-09,  5.91e-09,  5.49e-09, -6.07e-09, -1.39e-07,  8.23e-08,\n",
       "        -7.08e-08,  9.60e-08,  6.01e-08,  3.05e-08, -6.13e-09],\n",
       "       [ 5.91e-09,  9.03e-08,  5.30e-09, -6.43e-09, -1.34e-07,  7.99e-08,\n",
       "        -6.79e-08,  9.30e-08,  6.10e-08,  2.92e-08, -5.88e-09],\n",
       "       [ 5.49e-09,  5.30e-09,  4.95e-09, -5.96e-09, -1.24e-07,  7.41e-08,\n",
       "        -6.30e-08,  8.62e-08,  5.65e-08,  2.70e-08, -5.42e-09],\n",
       "       [-6.07e-09, -6.43e-09, -5.96e-09,  5.78e-07,  1.51e-07, -5.99e-07,\n",
       "        -2.11e-06, -3.68e-07, -3.90e-06, -4.40e-06,  3.93e-08],\n",
       "       [-1.39e-07, -1.34e-07, -1.24e-07,  1.51e-07,  3.14e-06, -1.87e-06,\n",
       "         1.59e-06, -2.18e-06, -1.43e-06, -6.85e-07,  1.38e-07],\n",
       "       [ 8.23e-08,  7.99e-08,  7.41e-08, -5.99e-07, -1.87e-06,  1.94e-05,\n",
       "        -1.31e-06,  3.54e-06,  5.42e-06,  3.05e-06, -3.68e-08],\n",
       "       [-7.08e-08, -6.79e-08, -6.30e-08, -2.11e-06,  1.59e-06, -1.31e-06,\n",
       "         9.32e-05,  4.16e-07,  1.36e-05,  1.74e-05, -1.64e-07],\n",
       "       [ 9.60e-08,  9.30e-08,  8.62e-08, -3.68e-07, -2.18e-06,  3.54e-06,\n",
       "         4.16e-07,  1.28e-05,  4.96e-06, -4.02e-08,  1.61e-07],\n",
       "       [ 6.01e-08,  6.10e-08,  5.65e-08, -3.90e-06, -1.43e-06,  5.42e-06,\n",
       "         1.36e-05,  4.96e-06,  2.79e-05,  2.84e-05,  1.01e-08],\n",
       "       [ 3.05e-08,  2.92e-08,  2.70e-08, -4.40e-06, -6.85e-07,  3.05e-06,\n",
       "         1.74e-05, -4.02e-08,  2.84e-05,  3.72e-05, -6.49e-07],\n",
       "       [-6.13e-09, -5.88e-09, -5.42e-09,  3.93e-08,  1.38e-07, -3.68e-08,\n",
       "        -1.64e-07,  1.61e-07,  1.01e-08, -6.49e-07,  5.58e-07]])"
      ]
     },
     "execution_count": 20,
     "metadata": {},
     "output_type": "execute_result"
    }
   ],
   "source": [
    "nn_lecs_cov"
   ]
  },
  {
   "cell_type": "code",
   "execution_count": 21,
   "metadata": {},
   "outputs": [],
   "source": [
    "hyperparameter_names_tex = [param_names_tex_map[name] for name in hyperparameter_names]\n",
    "lec_names_tex = [param_names_tex_map[name] for name in prior_parameter_names]\n",
    "post_lec_names_tex = [param_names_tex_map[name] for name in posterior_parameter_names]\n",
    "lec_and_hyp_names_tex = [param_names_tex_map[name] for name in parameter_names_with_hyperparameters]\n",
    "all_lec_names_tex = [param_names_tex_map[name] for name in parameter_names]"
   ]
  },
  {
   "cell_type": "markdown",
   "metadata": {},
   "source": [
    "## Fit $t$ distributions to the posterior and PPD, compute standard deviation regions"
   ]
  },
  {
   "cell_type": "code",
   "execution_count": 22,
   "metadata": {},
   "outputs": [],
   "source": [
    "quantiles_1d = [0.16, 0.84]\n",
    "stdv_levels_2d = [1-np.exp(-0.5*n**2) for n in [1, 2]]"
   ]
  },
  {
   "cell_type": "code",
   "execution_count": 23,
   "metadata": {},
   "outputs": [],
   "source": [
    "n_lecs = lec_samples_flat.shape[-1]\n",
    "n_obs = len(observables)"
   ]
  },
  {
   "cell_type": "markdown",
   "metadata": {},
   "source": [
    "This can take a little while to run. It's not as bad as the PPD fit below though."
   ]
  },
  {
   "cell_type": "code",
   "execution_count": 24,
   "metadata": {},
   "outputs": [
    {
     "name": "stdout",
     "output_type": "stream",
     "text": [
      "[[0.69984039 0.1135525 ]\n",
      " [0.1135525  0.02109663]] [0.71833363 0.00260339]\n",
      "[0.93452448]\n",
      "[ 0.69314718  9.68871278  0.07192942 -0.18357474 -0.17845149 -1.92932102]\n",
      "Optimization terminated successfully.\n",
      "         Current function value: -1893295.627567\n",
      "         Iterations: 409\n",
      "         Function evaluations: 631\n"
     ]
    }
   ],
   "source": [
    "df, loc, scale = optimize_mv_student_t(lec_samples_flat, maxiter=2000)"
   ]
  },
  {
   "cell_type": "code",
   "execution_count": 25,
   "metadata": {},
   "outputs": [
    {
     "data": {
      "text/plain": [
       "(2.78192693305715, array([-0.00472045, -0.18923413]))"
      ]
     },
     "execution_count": 25,
     "metadata": {},
     "output_type": "execute_result"
    }
   ],
   "source": [
    "df, loc"
   ]
  },
  {
   "cell_type": "code",
   "execution_count": 26,
   "metadata": {},
   "outputs": [
    {
     "data": {
      "text/plain": [
       "array([[0.25035631, 0.04318932],\n",
       "       [0.04318932, 0.00816554]])"
      ]
     },
     "execution_count": 26,
     "metadata": {},
     "output_type": "execute_result"
    }
   ],
   "source": [
    "scale"
   ]
  },
  {
   "cell_type": "markdown",
   "metadata": {},
   "source": [
    "Approximate correlation $\\rho$"
   ]
  },
  {
   "cell_type": "code",
   "execution_count": 27,
   "metadata": {},
   "outputs": [
    {
     "data": {
      "text/plain": [
       "0.9552224003553013"
      ]
     },
     "execution_count": 27,
     "metadata": {},
     "output_type": "execute_result"
    }
   ],
   "source": [
    "scale[1, 0] / np.sqrt(scale[0, 0] * scale[1, 1])"
   ]
  },
  {
   "cell_type": "markdown",
   "metadata": {},
   "source": [
    "Compute the standard deviation intervals and quantiles based on the fit above"
   ]
  },
  {
   "cell_type": "code",
   "execution_count": 28,
   "metadata": {},
   "outputs": [
    {
     "data": {
      "text/plain": [
       "[0.0814523075283135, 0.9185476924716864]"
      ]
     },
     "execution_count": 28,
     "metadata": {},
     "output_type": "execute_result"
    }
   ],
   "source": [
    "stdv_levels_1d_t = [mass_under_student_t_at_n_sigma(n_stdv, df, 1) for n_stdv in [1, 2]]\n",
    "stdv_levels_2d_t = [mass_under_student_t_at_n_sigma(n_stdv, df, 2) for n_stdv in [1, 2]]\n",
    "quantiles_t = [0.5 - stdv_levels_1d_t[0]/2, 0.5 + stdv_levels_1d_t[0]/2]\n",
    "quantiles_t"
   ]
  },
  {
   "cell_type": "code",
   "execution_count": 29,
   "metadata": {},
   "outputs": [],
   "source": [
    "# obs_chol = np.linalg.cholesky(np.cov(predictions_flat, rowvar=False))"
   ]
  },
  {
   "cell_type": "code",
   "execution_count": 30,
   "metadata": {},
   "outputs": [],
   "source": [
    "# assert False"
   ]
  },
  {
   "cell_type": "code",
   "execution_count": 31,
   "metadata": {},
   "outputs": [],
   "source": [
    "def mahalanobis(y, mean, chol):\n",
    "    return np.sqrt(np.sum((y - mean) * sp.linalg.cho_solve((chol, True), (y - mean).T).T, axis=-1))"
   ]
  },
  {
   "cell_type": "markdown",
   "metadata": {},
   "source": [
    "WARNING: The code below can take a while. If you don't care about the t distribution fit to the PPD, skip it."
   ]
  },
  {
   "cell_type": "code",
   "execution_count": 32,
   "metadata": {},
   "outputs": [
    {
     "name": "stdout",
     "output_type": "stream",
     "text": [
      "[[ 0.60449729 -0.00988915 -0.0281176   0.02320652]\n",
      " [-0.00988915  0.89675872  0.05029325  0.10097259]\n",
      " [-0.0281176   0.05029325  0.63822398 -0.18514037]\n",
      " [ 0.02320652  0.10097259 -0.18514037  0.36060376]] [0.24812048 0.59524229 0.74011007 0.91661091]\n",
      "[-0.01343148 -0.04526833  0.04970473  0.06647914  0.17756222 -0.38592192]\n",
      "[ 0.69314718 -0.02110126 -0.07122741  0.07823504  0.10480642  0.28637899\n",
      " -0.69328458 -0.04693374  0.01573994 -0.04526999 -0.05254564 -0.25167905\n",
      " -0.05448422 -0.224533   -0.50998776]\n",
      "Warning: Maximum number of iterations has been exceeded.\n",
      "9.04384813010035 [-0.07402932  0.00234648 -0.0718217  -0.07616575] \n",
      " [[ 0.44290711 -0.02434484 -0.02279441  0.00914251]\n",
      " [-0.02434484  0.75547323  0.00866456  0.09287528]\n",
      " [-0.02279441  0.01514484  0.47550813 -0.14528199]\n",
      " [ 0.00523054  0.09287528 -0.14528199  0.29557333]]\n"
     ]
    }
   ],
   "source": [
    "# obs_mean = np.abs(np.mean(predictions_flat, axis=0))\n",
    "obs_mean = np.mean(predictions_flat, axis=0)\n",
    "obs_cov = np.cov(predictions_flat, rowvar=False)\n",
    "obs_chol = np.linalg.cholesky(obs_cov)\n",
    "\n",
    "# The data out in the tail can really mess with the fit. Remove it.\n",
    "predictions_flat_filtered = predictions_flat[\n",
    "    mahalanobis(predictions_flat, obs_mean, obs_chol) < 4\n",
    "]\n",
    "\n",
    "df_obs_raw, loc_obs_raw, scale_obs_raw = optimize_mv_student_t(\n",
    "#     predictions_flat @ obs_chol,\n",
    "    sp.linalg.solve(obs_chol, (predictions_flat_filtered-obs_mean).T).T,\n",
    "    maxiter=5000, fix_corr=False, verbose=True)\n",
    "print(df_obs_raw, loc_obs_raw, '\\n', scale_obs_raw)\n",
    "df_obs = np.max([df_obs_raw, 2.1])\n",
    "# loc_obs = loc_obs * obs_ref\n",
    "# scale_obs = obs_ref[:, None] * obs_ref * scale_obs\n",
    "\n",
    "# loc_obs = (loc_obs + obs_ref)*np.abs(obs_ref)\n",
    "# scale_obs = np.abs(obs_ref[:, None] * obs_ref) * scale_obs\n",
    "loc_obs = obs_chol @ loc_obs_raw + obs_mean\n",
    "scale_obs = obs_chol @ scale_obs_raw @ obs_chol.T"
   ]
  },
  {
   "cell_type": "code",
   "execution_count": 33,
   "metadata": {},
   "outputs": [
    {
     "data": {
      "text/plain": [
       "(9.04384813010035,\n",
       " array([  -8.5271651 ,  -28.2352167 ,    1.45332147, 1128.45482367]),\n",
       " array([[ 5.86774854e-03,  2.82929028e-02,  5.80123870e-04,\n",
       "          2.52822106e-01],\n",
       "        [ 2.82929028e-02,  1.56605292e-01,  3.64246531e-03,\n",
       "          7.34338165e-02],\n",
       "        [ 5.80123870e-04,  3.64960908e-03,  1.14582697e-04,\n",
       "         -1.07962949e-01],\n",
       "        [ 2.50674577e-01,  3.64126136e-02, -1.08867132e-01,\n",
       "          4.14918286e+02]]))"
      ]
     },
     "execution_count": 33,
     "metadata": {},
     "output_type": "execute_result"
    }
   ],
   "source": [
    "df_obs, loc_obs, scale_obs"
   ]
  },
  {
   "cell_type": "markdown",
   "metadata": {},
   "source": [
    "Compute the standard deviation intervals and quantiles based on the fit above"
   ]
  },
  {
   "cell_type": "code",
   "execution_count": 34,
   "metadata": {},
   "outputs": [
    {
     "data": {
      "text/plain": [
       "[0.14315648257034358, 0.8568435174296565]"
      ]
     },
     "execution_count": 34,
     "metadata": {},
     "output_type": "execute_result"
    }
   ],
   "source": [
    "stdv_levels_1d_t_obs = [mass_under_student_t_at_n_sigma(n_stdv, df_obs, 1) for n_stdv in [1, 2]]\n",
    "stdv_levels_2d_t_obs = [mass_under_student_t_at_n_sigma(n_stdv, df_obs, 2) for n_stdv in [1, 2]]\n",
    "quantiles_t_obs = [0.5 - stdv_levels_1d_t_obs[0]/2, 0.5 + stdv_levels_1d_t_obs[0]/2]\n",
    "quantiles_t_obs"
   ]
  },
  {
   "cell_type": "markdown",
   "metadata": {},
   "source": [
    "# Begin the plotting!"
   ]
  },
  {
   "cell_type": "code",
   "execution_count": 35,
   "metadata": {},
   "outputs": [
    {
     "data": {
      "image/png": "[encoded data removed]",
      "text/plain": [
       "<Figure size 408x408 with 4 Axes>"
      ]
     },
     "metadata": {},
     "output_type": "display_data"
    }
   ],
   "source": [
    "if include_in_emulator:\n",
    "    suptitle_label = r'pr($c_D, c_E \\, | \\, \\mathbf{y}_{\\rm{exp}}, \\Sigma_{{nn}}, I$)'\n",
    "else:\n",
    "    suptitle_label = r'pr($c_D, c_E \\, | \\, \\mathbf{y}_{\\rm{exp}}, \\vec{a}_{{nn}}, I$)'\n",
    "\n",
    "fig, axes = plt.subplots(2, 2, figsize=(3.4, 3.4), sharex='col', constrained_layout=True)\n",
    "fig, axes = pretty_corner(\n",
    "    data=lec_samples_flat,\n",
    "    loc=loc,\n",
    "    scale=scale,\n",
    "    df=df,\n",
    "    labels=lec_names_tex,\n",
    "    quantiles=quantiles_t,\n",
    "    levels=stdv_levels_2d_t,\n",
    "    plot_hist=False,\n",
    "    plot_contour=True,\n",
    "#     text=samples_description_string,\n",
    "#     title=suptitle_label,\n",
    "    axes=axes,\n",
    "    bins=40,\n",
    "#     xlabel_pad=0,\n",
    "    xtick_rotation=0,\n",
    "    ytick_rotation=0,\n",
    "    stdv_range=2.4,\n",
    ")\n",
    "\n",
    "axes[1, 0].set_xticks([-2, 0, 2])\n",
    "axes[1, 0].set_yticks([0, -0.2, -0.4])\n",
    "axes[1, 1].set_xticks([-0.5, 0]);\n",
    "fig.savefig(join(sample_directory, 'posterior_samples_cd_ce_clean.png'), dpi=700)"
   ]
  },
  {
   "cell_type": "code",
   "execution_count": 36,
   "metadata": {},
   "outputs": [
    {
     "data": {
      "image/png": "[encoded data removed]",
      "text/plain": [
       "<Figure size 408x408 with 16 Axes>"
      ]
     },
     "metadata": {},
     "output_type": "display_data"
    }
   ],
   "source": [
    "fig, axes = plt.subplots(4, 4, figsize=(3.4, 3.4), sharex='col', constrained_layout=True)\n",
    "fig, axes = pretty_corner(\n",
    "    data=predictions_flat,\n",
    "    loc=loc_obs,\n",
    "    scale=scale_obs,\n",
    "    df=df_obs,\n",
    "    labels=obs_names_tex,\n",
    "    quantiles=quantiles_t_obs,\n",
    "    levels=stdv_levels_2d_t_obs,\n",
    "    plot_hist=False,\n",
    "    plot_contour=True,\n",
    "#     text=samples_description_string,\n",
    "#     title=suptitle_label,\n",
    "    axes=axes,\n",
    "    bins=20,\n",
    "    stdv_range=2.4,\n",
    "    truths=experiment,\n",
    ")\n",
    "for ax in axes.ravel():\n",
    "    ax.tick_params(axis='y', pad=0.9)\n",
    "    for tick in ax.get_yticklabels():\n",
    "        tick.set_verticalalignment(\"center\")\n",
    "    ax.tick_params(axis='x', pad=1.5)\n",
    "    \n",
    "    ax.set_ylabel(ax.get_ylabel(), labelpad=1)\n",
    "    ax.set_xlabel(ax.get_xlabel(), labelpad=1)\n",
    "\n",
    "fig.set_constrained_layout_pads(w_pad=1.2/72, h_pad=1.2/72, hspace=0, wspace=0);\n",
    "fig.savefig(join(sample_directory, 'posterior_predictive_samples_clean.png'), dpi=700)"
   ]
  },
  {
   "cell_type": "markdown",
   "metadata": {},
   "source": [
    "## Create the $\\bar c$-$Q$ plot\n",
    "\n",
    "Part of this is gridded and part is sampled."
   ]
  },
  {
   "cell_type": "code",
   "execution_count": 39,
   "metadata": {},
   "outputs": [],
   "source": [
    "from fit3bf.sampling import invchi2"
   ]
  },
  {
   "cell_type": "code",
   "execution_count": 40,
   "metadata": {},
   "outputs": [],
   "source": [
    "invchi2_prior = invchi2(\n",
    "    sample_parameters['hyperparameters']['cbar'][\"degrees_of_freedom\"],\n",
    "    sample_parameters['hyperparameters']['cbar'][\"scale\"]\n",
    ")\n",
    "beta_prior = stats.beta(\n",
    "    sample_parameters['hyperparameters']['Q'][\"a\"],\n",
    "    sample_parameters['hyperparameters']['Q'][\"b\"]\n",
    ")"
   ]
  },
  {
   "cell_type": "code",
   "execution_count": 41,
   "metadata": {},
   "outputs": [
    {
     "data": {
      "text/plain": [
       "array([0.        , 0.39346934, 0.86466472])"
      ]
     },
     "execution_count": 41,
     "metadata": {},
     "output_type": "execute_result"
    }
   ],
   "source": [
    "contour_masses = np.array([0] + [1-np.exp(-0.5*r**2) for r in [1, 2]])\n",
    "contour_masses"
   ]
  },
  {
   "cell_type": "code",
   "execution_count": 44,
   "metadata": {},
   "outputs": [],
   "source": [
    "cbar_vals = np.linspace(1e-5, 10, 201)\n",
    "Q_vals = np.linspace(1e-5, 1-1e-5, 101)\n",
    "log_hyp_prior = trunc_dist.logprior(cbar_vals[:, None], Q_vals)\n",
    "# Convert from cbar**2 pdf to a pdf that's a function of cbar\n",
    "hyp_prior_grid = 2*cbar_vals[:, None]*np.exp(log_hyp_prior)\n",
    "hyp_prior_contours = find_contour_levels(\n",
    "    hyp_prior_grid,\n",
    "    levels=contour_masses\n",
    ")"
   ]
  },
  {
   "cell_type": "code",
   "execution_count": 45,
   "metadata": {},
   "outputs": [],
   "source": [
    "log_post = np.array([\n",
    "    trunc_dist.logpdf(cbar_vals, Q_i, y=mean_predictions_trunc, order=hyp[\"EFT_order\"])\n",
    "    for Q_i in Q_vals\n",
    "]).T"
   ]
  },
  {
   "cell_type": "code",
   "execution_count": 46,
   "metadata": {},
   "outputs": [],
   "source": [
    "# Convert from cbar**2 pdf to a pdf that's a function of cbar\n",
    "hyp_post_grid = 2*cbar_vals[:, None]*np.exp(log_post)\n",
    "hyp_post_contours = find_contour_levels(\n",
    "    hyp_post_grid,\n",
    "    levels=contour_masses\n",
    ")"
   ]
  },
  {
   "cell_type": "code",
   "execution_count": 47,
   "metadata": {},
   "outputs": [
    {
     "data": {
      "text/plain": [
       "array([0.28469924, 2.10185224, 4.254201  ])"
      ]
     },
     "execution_count": 47,
     "metadata": {},
     "output_type": "execute_result"
    }
   ],
   "source": [
    "hyp_post_contours"
   ]
  },
  {
   "cell_type": "code",
   "execution_count": 48,
   "metadata": {},
   "outputs": [],
   "source": [
    "def joint_plot(ratio=1, height=3):\n",
    "    \"\"\"Taken from Seaborn JointGrid\"\"\"\n",
    "    fig = plt.figure(figsize=(height, height), constrained_layout=False)\n",
    "    gsp = plt.GridSpec(ratio+1, ratio+1)\n",
    "\n",
    "    ax_joint = fig.add_subplot(gsp[1:, :-1])\n",
    "    ax_marg_x = fig.add_subplot(gsp[0, :-1], sharex=ax_joint)\n",
    "    ax_marg_y = fig.add_subplot(gsp[1:, -1], sharey=ax_joint)\n",
    "\n",
    "    # Turn off tick visibility for the measure axis on the marginal plots\n",
    "    plt.setp(ax_marg_x.get_xticklabels(), visible=False)\n",
    "    plt.setp(ax_marg_y.get_yticklabels(), visible=False)\n",
    "\n",
    "    # Turn off the ticks on the density axis for the marginal plots\n",
    "    plt.setp(ax_marg_x.yaxis.get_majorticklines(), visible=False)\n",
    "    plt.setp(ax_marg_x.yaxis.get_minorticklines(), visible=False)\n",
    "    plt.setp(ax_marg_y.xaxis.get_majorticklines(), visible=False)\n",
    "    plt.setp(ax_marg_y.xaxis.get_minorticklines(), visible=False)\n",
    "    plt.setp(ax_marg_x.get_yticklabels(), visible=False)\n",
    "    plt.setp(ax_marg_y.get_xticklabels(), visible=False)\n",
    "    ax_marg_x.yaxis.grid(False)\n",
    "    ax_marg_y.xaxis.grid(False)\n",
    "\n",
    "    # Make the grid look nice\n",
    "    from seaborn import utils\n",
    "    # utils.despine(fig)\n",
    "    utils.despine(ax=ax_marg_x, left=True)\n",
    "    utils.despine(ax=ax_marg_y, bottom=True)\n",
    "#     fig.tight_layout(h_pad=0, w_pad=0)\n",
    "\n",
    "    ax_marg_y.tick_params(axis='y', which='major', direction='out')\n",
    "    ax_marg_x.tick_params(axis='x', which='major', direction='out')\n",
    "    ax_marg_y.tick_params(axis='y', which='minor', direction='out')\n",
    "    ax_marg_x.tick_params(axis='x', which='minor', direction='out')\n",
    "    ax_marg_y.margins(x=0.1, y=0.)\n",
    "\n",
    "    fig.subplots_adjust(hspace=0, wspace=0, top=1, right=1)\n",
    "\n",
    "    return fig, ax_joint, ax_marg_x, ax_marg_y\n",
    "\n",
    "def plot_joint_pdf_gridded(\n",
    "    x, y, pdf_x, pdf_y, pdf_joint, ax_joint, ax_marg_x,\n",
    "    ax_marg_y, color, facecolor, zorder=None, filled=False, marg_alpha=1,\n",
    "    contour_kwargs=None, **kwargs\n",
    "):\n",
    "    # Plot contour\n",
    "    if filled is True:\n",
    "        ax_joint.contourf(\n",
    "            x, y, pdf_joint, zorder=zorder, **kwargs\n",
    "        )\n",
    "    elif filled is False:\n",
    "        ax_joint.contour(\n",
    "            x, y, pdf_joint, zorder=zorder, **kwargs\n",
    "        )\n",
    "    elif filled == 'both':\n",
    "        ax_joint.contourf(\n",
    "            x, y, pdf_joint, zorder=zorder, **kwargs\n",
    "        )\n",
    "        ax_joint.contour(\n",
    "            x, y, pdf_joint, zorder=zorder, **contour_kwargs\n",
    "        )\n",
    "\n",
    "    # Now plot the marginal distributions\n",
    "    ax_marg_y.plot(pdf_y, y, c=color, lw=1, zorder=zorder)\n",
    "    ax_marg_y.fill_betweenx(\n",
    "        y, np.zeros_like(pdf_y),\n",
    "        pdf_y, facecolor=facecolor, lw=1, zorder=zorder,\n",
    "        alpha=marg_alpha,\n",
    "    )\n",
    "    ax_marg_x.plot(x, pdf_x, c=color, lw=1, zorder=zorder)\n",
    "    ax_marg_x.fill_between(\n",
    "        x, np.zeros_like(x),\n",
    "        pdf_x, facecolor=facecolor, lw=1, zorder=zorder,\n",
    "        alpha=marg_alpha,\n",
    "    )\n",
    "    return ax_joint, ax_marg_x, ax_marg_y\n",
    "\n",
    "def plot_joint_pdf_histogram(\n",
    "    data, ax_joint, ax_marg_x,\n",
    "    ax_marg_y, zorder=None, bins=30, hist_bin_factor_x=1, hist_bin_factor_y=1, **kwargs\n",
    "):\n",
    "    from corner import hist2d\n",
    "\n",
    "    # H, X, Y = np.histogram2d(data[:, i], data[:, j], density=True)\n",
    "    # print(H.shape, X.shape, Y.shape)\n",
    "    # ax.contour(X, Y, H, levels=levels, color='k')\n",
    "    hist2d(\n",
    "        data[:, 0],\n",
    "        data[:, 1],\n",
    "        bins=bins,\n",
    "        ax=ax_joint,\n",
    "        plot_density=False,\n",
    "        plot_contours=True,\n",
    "        plot_datapoints=False,\n",
    "        zorder=zorder,\n",
    "        **kwargs\n",
    "    )\n",
    "\n",
    "    # Now plot the marginal distributions\n",
    "    for i in range(2):\n",
    "        samples = data[:, i]\n",
    "        if i == 0:\n",
    "            ax = ax_marg_x\n",
    "            orientation = \"vertical\"\n",
    "            hist_bin_factor = hist_bin_factor_x\n",
    "        else:\n",
    "            ax = ax_marg_y\n",
    "            orientation = \"horizontal\"\n",
    "            hist_bin_factor = hist_bin_factor_y\n",
    "            \n",
    "        ax.hist(\n",
    "            samples,\n",
    "            bins=int(bins*hist_bin_factor),\n",
    "#             range=[min_range[i], max_range[i]],\n",
    "            density=True,\n",
    "            histtype='step',\n",
    "            color='k',\n",
    "            orientation=orientation,\n",
    "            zorder=zorder,\n",
    "            # alpha=0.5,\n",
    "        )\n",
    "    return ax_joint, ax_marg_x, ax_marg_y"
   ]
  },
  {
   "cell_type": "code",
   "execution_count": 49,
   "metadata": {},
   "outputs": [],
   "source": [
    "from matplotlib import ticker"
   ]
  },
  {
   "cell_type": "code",
   "execution_count": 50,
   "metadata": {},
   "outputs": [
    {
     "data": {
      "image/png": "[encoded data removed]",
      "text/plain": [
       "<Figure size 408x408 with 3 Axes>"
      ]
     },
     "metadata": {},
     "output_type": "display_data"
    }
   ],
   "source": [
    "fig, ax_joint, ax_marg_x, ax_marg_y = joint_plot(ratio=2, height=3.4)\n",
    "\n",
    "cbar_prior_vals = 2*cbar_vals*trunc_dist.cbar_sq_prior(cbar_vals)\n",
    "cbar_post_vals = np.trapz(hyp_post_grid, x=Q_vals, axis=-1)\n",
    "\n",
    "Q_prior_vals = trunc_dist.Q_prior(Q_vals)\n",
    "Q_post_vals = np.trapz(hyp_post_grid, x=cbar_vals, axis=0)\n",
    "\n",
    "plot_joint_pdf_histogram(\n",
    "    hyperparameter_samples_flat[:, ::-1],\n",
    "    ax_joint, ax_marg_x, ax_marg_y,\n",
    "    bins=60,\n",
    "    levels=contour_masses,\n",
    "    range=[[0,1], [0, 10]],\n",
    "    zorder=3,\n",
    "    hist_bin_factor_x=1.0,\n",
    "    hist_bin_factor_y=6,\n",
    ");\n",
    "\n",
    "cmap_prior = mpl.cm.get_cmap(\"Blues\")\n",
    "cmap_post = mpl.cm.get_cmap(\"Reds\")\n",
    "\n",
    "# post_light = cmap_post(0.2)\n",
    "# post_dark = cmap_post(0.4)\n",
    "\n",
    "post_light = cmap_post(0.25)\n",
    "post_dark = cmap_post(0.4)\n",
    "plot_joint_pdf_gridded(\n",
    "    Q_vals, cbar_vals, Q_prior_vals, cbar_prior_vals, hyp_prior_grid,\n",
    "    ax_joint, ax_marg_x, ax_marg_y,\n",
    "    color=cmap_prior(0.4), facecolor=cmap_prior(0.2), filled='both',\n",
    "    levels=hyp_prior_contours, alpha=0.9,\n",
    "    colors=[cmap_prior(0.2), cmap_prior(0.4)],\n",
    "    contour_kwargs=dict(\n",
    "        colors=[cmap_prior(1), cmap_prior(1)],\n",
    "        levels=hyp_prior_contours,\n",
    "    ),\n",
    "    marg_alpha=0.5,\n",
    "    zorder=1,\n",
    ");\n",
    "\n",
    "\n",
    "plot_joint_pdf_gridded(\n",
    "    Q_vals, cbar_vals, Q_post_vals, cbar_post_vals, hyp_post_grid,\n",
    "    ax_joint, ax_marg_x, ax_marg_y,\n",
    "    color=post_dark, facecolor=post_light,\n",
    "    filled='both', alpha=0.6,\n",
    "    levels=hyp_post_contours,\n",
    "    colors=[post_light, post_dark],\n",
    "    contour_kwargs=dict(\n",
    "        colors=[cmap_post(1), cmap_post(1)],\n",
    "        levels=hyp_post_contours,\n",
    "    ),\n",
    "    marg_alpha=0.5,\n",
    "    zorder=1,\n",
    ");\n",
    "\n",
    "proxy = [\n",
    "    plt.Rectangle((0,0), 1, 1, fc=cmap_prior(0.2), alpha=0.99, ec=cmap_prior(0.4)),\n",
    "    plt.Rectangle((0,0), 1, 1, fc=cmap_post(0.2), alpha=0.8, ec=cmap_post(0.4)),\n",
    "    plt.Rectangle((0,0), 1, 1, fc='w', ec='k'),\n",
    "]\n",
    "\n",
    "ax_joint.legend(\n",
    "    proxy, [\"Prior\", \"NNLO Shift\", \"Posterior\"],\n",
    "    loc='upper right', title=r'pr($\\bar c, Q \\,|\\, \\mathbf{y}_{\\mathrm{exp}}, I$)'\n",
    ")\n",
    "ax_joint.set_ylabel(fr\"$\\bar c$\")\n",
    "ax_joint.set_xlabel(fr\"$Q$\")\n",
    "ax_joint.set_xlim(0., 1)\n",
    "ax_joint.set_ylim(0, 5.5)\n",
    "ax_joint.yaxis.set_major_locator(ticker.MultipleLocator(1))\n",
    "ax_joint.yaxis.set_minor_locator(ticker.AutoMinorLocator(2))\n",
    "ax_joint.xaxis.set_minor_locator(ticker.AutoMinorLocator(2))\n",
    "ax_joint.set_xticks([0, 0.5, 1])\n",
    "ax_joint.set_xticklabels([0, 0.5, 1])\n",
    "\n",
    "ax_joint.margins(x=0, y=0.)\n",
    "ax_marg_x.set_ylim(bottom=0)\n",
    "ax_marg_y.set_xlim(left=0);\n",
    "fig.savefig(join(sample_directory, 'hyperparameter_samples_clean.png'), dpi=700)"
   ]
  },
  {
   "cell_type": "markdown",
   "metadata": {},
   "source": [
    "# OLD STUFF BELOW\n",
    "\n",
    "\n",
    "---"
   ]
  },
  {
   "cell_type": "code",
   "execution_count": null,
   "metadata": {},
   "outputs": [],
   "source": [
    "assert False  # Stop a \"run all\" from continuing past this point"
   ]
  },
  {
   "cell_type": "code",
   "execution_count": 37,
   "metadata": {
    "scrolled": false
   },
   "outputs": [],
   "source": [
    "# fig, axes = plt.subplots(n_lecs, n_lecs, figsize=(3.4, 3.4))\n",
    "# fig = corner.corner(\n",
    "#     lec_samples_flat, labels=lec_names_tex,\n",
    "#     bins=30,\n",
    "# #     quantiles=quantiles_1d,\n",
    "#     quantiles=quantiles_t,\n",
    "#     hist_bin_factor=2,\n",
    "#     show_titles=True, title_kwargs={\"fontsize\": 10},\n",
    "# #     levels=stdv_levels_2d,\n",
    "#     levels=stdv_levels_2d_t,\n",
    "#     fig=fig,\n",
    "#     range=[0.99] * n_lecs,\n",
    "#     hist_kwargs={'density': True}\n",
    "# )\n",
    "\n",
    "# for (i, j), ax in np.ndenumerate(axes):\n",
    "#     if i >= j:\n",
    "#         ax.axvline(0, 0, 1, c='lightgrey', lw=1, zorder=-10)\n",
    "#         if i == j:\n",
    "#             plot_gaussian_approximation(lec_samples_flat[:, i], ax)\n",
    "#             plot_student_t_from_params(\n",
    "#                 lec_samples_flat[:, i], df, loc[i], np.sqrt(scale[i,i]),\n",
    "#                 ax=ax, c='r', lw=1.5, ls=':'\n",
    "#             )\n",
    "#         if i != j:\n",
    "#             for stdv in [1, 2]:\n",
    "#                 pass\n",
    "# #                 confidence_ellipse(\n",
    "# #                     lec_samples_flat[:, j], lec_samples_flat[:, i],\n",
    "# #                     ax, n_std=stdv, edgecolor='r', zorder=10\n",
    "# #                 )\n",
    "#                 confidence_ellipse_student_t_from_params(\n",
    "#                     df=df, mean=loc, scale=scale, ax=ax,\n",
    "#                     n_std=stdv, edgecolor='r', zorder=10\n",
    "#                 )\n",
    "#             ax.axhline(0, 0, 1, c='lightgrey', lw=1, zorder=-10)\n",
    "#     else:\n",
    "#         ax.text(\n",
    "#             0.05, 1.06, s=samples_description_string, ma='left', va='top',\n",
    "#             bbox=dict(facecolor='w', boxstyle='round')\n",
    "#         )\n",
    "        \n",
    "\n",
    "# if include_in_emulator:\n",
    "#     suptitle_label = r'pr($c_D, c_E \\, | \\, \\mathbf{y}_{\\rm{exp}}, \\Sigma_{{nn}}, I$)'\n",
    "# else:\n",
    "#     suptitle_label = r'pr($c_D, c_E \\, | \\, \\mathbf{y}_{\\rm{exp}}, \\vec{a}_{{nn}}, I$)'\n",
    "# fig.suptitle(suptitle_label, y=1.06, fontsize=11)\n",
    "# # bbox_inches = 'tight' will mess up figure size but will get the title to fit.\n",
    "# # Fix this later.\n",
    "# fig.savefig(join(sample_directory, 'posterior_samples_cd_ce.pdf'), bbox_inches='tight')"
   ]
  },
  {
   "cell_type": "code",
   "execution_count": null,
   "metadata": {},
   "outputs": [],
   "source": [
    "\n",
    "# fig = corner.corner(\n",
    "#     lec_samples_flat, labels=lec_names_tex,\n",
    "#     bins=50,\n",
    "# #     quantiles=quantiles_t_obs,\n",
    "#     hist_bin_factor=3,\n",
    "#     show_titles=True, title_kwargs={\"fontsize\": 9},\n",
    "# #     levels=stdv_levels_2d_t_obs,\n",
    "# #     fig=fig,\n",
    "# #     range=[1.1] * lec_samples_flat.shape[-1],\n",
    "# #     truths=experiment,\n",
    "#     hist_kwargs={'density': True}\n",
    "# )\n",
    "# fig.axes[2].set_xlim(-2, 2)"
   ]
  },
  {
   "cell_type": "code",
   "execution_count": null,
   "metadata": {},
   "outputs": [],
   "source": [
    "# if include_in_emulator:\n",
    "#     suptitle_label = r'pr($c_D, c_E \\, | \\, \\mathbf{y}_{\\rm{exp}}, \\Sigma_{{nn}}, I$)'\n",
    "# else:\n",
    "#     suptitle_label = r'pr($c_D, c_E \\, | \\, \\mathbf{y}_{\\rm{exp}}, \\vec{a}_{{nn}}, I$)'\n",
    "\n",
    "# pretty_corner(\n",
    "#     data=lec_samples_flat,\n",
    "#     loc=loc,\n",
    "#     scale=scale,\n",
    "#     df=df,\n",
    "#     labels=lec_names_tex,\n",
    "#     quantiles=quantiles_t,\n",
    "#     levels=stdv_levels_2d_t,\n",
    "#     plot_hist=True,\n",
    "#     text=samples_description_string,\n",
    "#     title=suptitle_label\n",
    "# );"
   ]
  },
  {
   "cell_type": "code",
   "execution_count": null,
   "metadata": {},
   "outputs": [],
   "source": [
    "# fig = corner.corner(\n",
    "#     predictions_flat, labels=obs_names_tex,\n",
    "#     bins=50,\n",
    "#     quantiles=quantiles_t_obs,\n",
    "#     hist_bin_factor=3,\n",
    "#     show_titles=True, title_kwargs={\"fontsize\": 9},\n",
    "#     levels=stdv_levels_2d_t_obs,\n",
    "# #     fig=fig,\n",
    "#     range=[0.995] * predictions_flat.shape[-1],\n",
    "#     truths=experiment,\n",
    "#     hist_kwargs={'density': True}\n",
    "# )"
   ]
  },
  {
   "cell_type": "code",
   "execution_count": null,
   "metadata": {},
   "outputs": [],
   "source": [
    "fig, axes = plt.subplots(n_lecs, n_lecs, figsize=(3.4, 3.4))\n",
    "fig = corner.corner(\n",
    "    hyperparameter_samples_flat,\n",
    "    labels=hyperparameter_names_tex,\n",
    "    bins=30,\n",
    "#     quantiles=quantiles_1d,\n",
    "#     quantiles=quantiles_t,\n",
    "    hist_bin_factor=2,\n",
    "    show_titles=True,\n",
    "    title_kwargs={\"fontsize\": 10},\n",
    "    levels=np.array([0.68, 0.95]),\n",
    "#     levels=stdv_levels_2d,\n",
    "#     levels=stdv_levels_2d_t,\n",
    "    fig=fig,\n",
    "#     range=[0.99] * 2,\n",
    "    hist_kwargs={'density': True},\n",
    "    plot_datapoints=False,\n",
    "    range=[[0, 8], 0.995]\n",
    ")\n",
    "\n",
    "cbar_max = 8\n",
    "\n",
    "for (i, j), ax in np.ndenumerate(axes):\n",
    "    if i >= j:\n",
    "        if i == j:\n",
    "            samples_ordered = np.sort(hyperparameter_samples_flat[:, i])\n",
    "            if hyperparameter_names[i] == 'cbar':\n",
    "#                 samples_ordered = samples_ordered[samples_ordered <= cbar_max]\n",
    "                # Convert from cbar^2 scale to cbar scale\n",
    "#                 ax.plot(samples_ordered, 2*samples_ordered*invchi2_prior.pdf(samples_ordered**2))\n",
    "#                 ax.plot(samples_ordered, 2*samples_ordered*trunc_dist.cbar_sq_prior(samples_ordered))\n",
    "                ax.plot(samples_ordered, 2*samples_ordered*trunc_dist.cbar_sq_prior(samples_ordered), label='Prior')\n",
    "                ax.plot(cbar_vals, np.trapz(hyp_post_grid, x=Q_vals, axis=-1), c='C1', label=\"Post.\\ Trunc\")\n",
    "            elif hyperparameter_names[i] == 'Q':\n",
    "#                 ax.plot(samples_ordered, beta_prior.pdf(samples_ordered))\n",
    "                ax.plot(samples_ordered, trunc_dist.Q_prior(samples_ordered))\n",
    "                ax.plot(Q_vals, np.trapz(hyp_post_grid, x=cbar_vals, axis=0), c='C1')\n",
    "            if i == 0:\n",
    "                ax.plot([], [], c='k', label=\"Posterior Fit\")\n",
    "                ax.legend(bbox_to_anchor=(1.05, 1), borderaxespad=0)\n",
    "        if i != j:\n",
    "            ax.contour(cbar_vals, Q_vals, hyp_prior_grid.T, levels=hyp_prior_contours, colors='C0')\n",
    "            ax.contour(cbar_vals, Q_vals, hyp_post_grid.T, levels=hyp_post_contours, colors='C1')\n",
    "\n",
    "fig.savefig(join(sample_directory, 'hyperparameter_samples_cd_ce.pdf'))"
   ]
  },
  {
   "cell_type": "code",
   "execution_count": null,
   "metadata": {},
   "outputs": [],
   "source": [
    "hyperparameter_samples_flat_cbar_sq = hyperparameter_samples_flat.copy()\n",
    "hyperparameter_samples_flat_cbar_sq[:, 0] **= 2\n",
    "\n",
    "\n",
    "fig, axes = plt.subplots(n_lecs, n_lecs, figsize=(3.4, 3.4))\n",
    "fig = corner.corner(\n",
    "    hyperparameter_samples_flat_cbar_sq, labels=hyperparameter_names_tex,\n",
    "    bins=30,\n",
    "#     quantiles=quantiles_1d,\n",
    "#     quantiles=quantiles_t,\n",
    "    hist_bin_factor=2,\n",
    "    show_titles=True, title_kwargs={\"fontsize\": 10},\n",
    "    levels=np.array([0.68, 0.95]),\n",
    "#     levels=stdv_levels_2d,\n",
    "#     levels=stdv_levels_2d_t,\n",
    "    fig=fig,\n",
    "    range=[0.995] * n_lecs,\n",
    "    hist_kwargs={'density': True}\n",
    ")\n",
    "\n",
    "\n",
    "for (i, j), ax in np.ndenumerate(axes):\n",
    "    if i >= j:\n",
    "        if i == j:\n",
    "            samples_ordered = np.sort(hyperparameter_samples_flat_cbar_sq[:, i])\n",
    "            if hyperparameter_names[i] == 'cbar':\n",
    "                # Convert from cbar^2 scale to cbar scale\n",
    "#                 ax.plot(samples_ordered, 2*samples_ordered*invchi2_prior.pdf(samples_ordered**2))\n",
    "#                 ax.plot(samples_ordered, 2*samples_ordered*trunc_dist.cbar_sq_prior(samples_ordered))\n",
    "                ax.plot(samples_ordered, trunc_dist.cbar_sq_prior(np.sqrt(samples_ordered)))\n",
    "                ax.plot(cbar_vals**2, np.trapz(hyp_post_grid, x=Q_vals, axis=-1), c='C1')\n",
    "            elif hyperparameter_names[i] == 'Q':\n",
    "#                 ax.plot(samples_ordered, beta_prior.pdf(samples_ordered))\n",
    "                ax.plot(samples_ordered, trunc_dist.Q_prior(samples_ordered))\n",
    "                ax.plot(Q_vals, np.trapz(hyp_post_grid, x=cbar_vals**2, axis=0), c='C1')\n",
    "        if i != j:\n",
    "            ax.contour(cbar_vals**2, Q_vals, hyp_prior_grid.T, levels=hyp_prior_contours_cbar_sq, colors='C0')\n",
    "            ax.contour(cbar_vals**2, Q_vals, hyp_post_grid.T, levels=hyp_post_contours_cbar_sq, colors='C1')\n",
    "        \n",
    "\n",
    "# if use_gradients:\n",
    "#     suptitle_label = r'pr($c_D, c_E \\, | \\, \\mathbf{y}_{\\rm{exp}}, \\Sigma_{{nn}}, I$)'\n",
    "# else:\n",
    "#     suptitle_label = r'pr($c_D, c_E \\, | \\, \\mathbf{y}_{\\rm{exp}}, \\vec{a}_{{nn}}, I$)'\n",
    "fig.suptitle(\"Hyperparameter posteriors vs priors\", y=1.06, fontsize=11)\n",
    "# bbox_inches = 'tight' will mess up figure size but will get the title to fit.\n",
    "# Fix this later.\n",
    "# fig.savefig(join(sample_directory, 'hyperparameter_samples_cd_ce.pdf'), bbox_inches='tight')"
   ]
  },
  {
   "cell_type": "code",
   "execution_count": null,
   "metadata": {},
   "outputs": [],
   "source": [
    "# fig, axes = plt.subplots(4, 4, figsize=(6, 5))\n",
    "# fig = corner.corner(\n",
    "#     samples_flat[:, ::-1], labels=lec_and_hyp_names_tex[::-1],\n",
    "#     bins=30,\n",
    "# #     quantiles=quantiles_1d,\n",
    "# #     quantiles=quantiles_t,\n",
    "#     hist_bin_factor=2,\n",
    "#     show_titles=True, title_kwargs={\"fontsize\": 10},\n",
    "# #     levels=stdv_levels_2d,\n",
    "# #     levels=stdv_levels_2d_t,\n",
    "#     fig=fig,\n",
    "#     range=[0.995] * 4,\n",
    "#     hist_kwargs={'density': True}\n",
    "# )\n",
    "# axes[0, -1].text(\n",
    "#     0.05, 1.06, s=samples_description_string, ma='left', va='top',\n",
    "#     bbox=dict(facecolor='w', boxstyle='round')\n",
    "# )"
   ]
  },
  {
   "cell_type": "code",
   "execution_count": null,
   "metadata": {},
   "outputs": [],
   "source": [
    "fig, axes = plt.subplots(n_obs, n_obs, figsize=(max(4, 6*n_obs/4), max(3, 5*n_obs/4)))\n",
    "# fig, axes = plt.subplots(n_obs, n_obs, figsize=(4, 3))\n",
    "fig = corner.corner(\n",
    "    predictions_flat, labels=obs_names_tex,\n",
    "    bins=50,\n",
    "    quantiles=quantiles_t_obs,\n",
    "    hist_bin_factor=3,\n",
    "    show_titles=True, title_kwargs={\"fontsize\": 9},\n",
    "    levels=stdv_levels_2d_t_obs,\n",
    "    fig=fig,\n",
    "    range=[0.995] * predictions_flat.shape[-1],\n",
    "    truths=experiment,\n",
    "    hist_kwargs={'density': True}\n",
    ")\n",
    "\n",
    "# for (i, j), ax in np.ndenumerate(axes):\n",
    "#     if i >= j:\n",
    "#         ax.axvline(0, 0, 1, c='lightgrey', lw=1, zorder=-10)\n",
    "#         if i == j:\n",
    "#             plot_gaussian_approximation(predictions_flat[:, i], ax)\n",
    "#             plot_student_t_from_params(\n",
    "#                 predictions_flat[:, i], df, loc_obs[i], np.sqrt(scale_obs[i,i]),\n",
    "#                 ax=ax, c='r', lw=1.5, ls=':'\n",
    "#             )\n",
    "#         if i != j:\n",
    "#             for stdv in [1, 2]:\n",
    "#                 pass\n",
    "# #                 confidence_ellipse(\n",
    "# #                     lec_samples_flat[:, j], lec_samples_flat[:, i],\n",
    "# #                     ax, n_std=stdv, edgecolor='r', zorder=10\n",
    "# #                 )\n",
    "#                 confidence_ellipse_student_t_from_params(\n",
    "#                     df=df, mean=loc_obs[[j, i]],\n",
    "#                     scale=scale_obs[np.array([j, i])[:, None], [j, i]],\n",
    "#                     ax=ax,\n",
    "#                     n_std=stdv, edgecolor='r', zorder=10\n",
    "#                 )\n",
    "#             ax.axhline(0, 0, 1, c='lightgrey', lw=1, zorder=-10)\n",
    "#     else:\n",
    "#         pass\n",
    "\n",
    "axes[0, -1].text(\n",
    "    0.05, 1.06, s=samples_description_string, ma='left', va='top',\n",
    "    bbox=dict(facecolor='w', boxstyle='round')\n",
    ")\n",
    "# fig.savefig(join(sample_directory, 'posterior_predictive_samples.pdf'))"
   ]
  },
  {
   "cell_type": "code",
   "execution_count": null,
   "metadata": {
    "scrolled": false
   },
   "outputs": [],
   "source": [
    "# fig, axes = plt.subplots(n_obs, n_obs, figsize=(max(4, 6*n_obs/4), max(3, 5*n_obs/4)))\n",
    "fig, axes = plt.subplots(n_obs, n_obs, figsize=(3.4, 3.4))\n",
    "# fig, axes = plt.subplots(n_obs, n_obs, figsize=(4, 3))\n",
    "fig = corner.corner(\n",
    "    predictions_flat, labels=obs_names_tex,\n",
    "    bins=50,\n",
    "    quantiles=quantiles_1d,\n",
    "    hist_bin_factor=3,\n",
    "    show_titles=False,\n",
    "    title_kwargs={\"fontsize\": 9},\n",
    "    levels=stdv_levels_2d,\n",
    "    fig=fig,\n",
    "    range=[0.998] * predictions_flat.shape[-1],\n",
    "    truths=experiment,\n",
    "    labelpad=0.25,\n",
    ")\n",
    "# axes[0, -2].text(\n",
    "#     0.05, 1.06, s=samples_description_string, ma='left', va='top',\n",
    "#     bbox=dict(facecolor='w', boxstyle='round')\n",
    "# )\n",
    "axes[0, -2].text(\n",
    "    0.4, 1.06, s=samples_description_string, ma='left', va='top',\n",
    "    bbox=dict(facecolor='w', boxstyle='round')\n",
    ")\n",
    "# fig.subplots_adjust(\n",
    "#     left=.1, bottom=0.1 \n",
    "# )\n",
    "fig.savefig(join(sample_directory, 'posterior_predictive_samples.pdf'), bbox_inches='tight')"
   ]
  },
  {
   "cell_type": "code",
   "execution_count": null,
   "metadata": {
    "scrolled": false
   },
   "outputs": [],
   "source": [
    "fig, axes = plt.subplots(n_post_lecs, n_post_lecs, figsize=(11, 8))\n",
    "fig = corner.corner(\n",
    "    post_lec_samples_flat, labels=post_lec_names_tex,\n",
    "    bins=20,\n",
    "#     quantiles=quantiles_1d,\n",
    "#     quantiles=quantiles_t,\n",
    "    hist_bin_factor=2,\n",
    "    show_titles=True,\n",
    "    title_kwargs={\"fontsize\": 5},\n",
    "#     levels=stdv_levels_2d,\n",
    "#     levels=stdv_levels_2d_t,\n",
    "    fig=fig,\n",
    "    range=[0.995] * n_post_lecs,\n",
    "    hist_kwargs={'density': True},\n",
    "    labelpad=0.4\n",
    ")\n",
    "\n",
    "for (i, j), ax in np.ndenumerate(axes):\n",
    "    if i >= j:\n",
    "        ax.axvline(0, 0, 1, c='lightgrey', lw=1, zorder=-10)\n",
    "        if i == j:\n",
    "            plot_gaussian_from_params(\n",
    "                post_lec_samples_flat[:, i],\n",
    "                nn_lecs_loc[i], np.sqrt(nn_lecs_cov[i,i]),\n",
    "                ax=ax\n",
    "            )\n",
    "        if i != j:\n",
    "            for stdv in [1, 2]:\n",
    "                pass\n",
    "                confidence_ellipse_mean_cov(\n",
    "                    nn_lecs_loc[[j, i]], nn_lecs_cov[np.array([j, i])[:, None], [j, i]],\n",
    "                    ax, n_std=stdv, edgecolor='r', zorder=10\n",
    "                )\n",
    "            ax.axhline(0, 0, 1, c='lightgrey', lw=1, zorder=-10)\n",
    "\n",
    "            \n",
    "axes[2, -3].text(\n",
    "    0.05, 1.06, s=samples_description_string, ma='left', va='top',\n",
    "    bbox=dict(facecolor='w', boxstyle='round')\n",
    ")\n",
    "\n",
    "if include_in_emulator:\n",
    "    suptitle_label = r'pr($c_{NN} \\, | \\, \\mathbf{y}_{\\rm{exp}}, \\Sigma_{{nn}}, I$)'\n",
    "else:\n",
    "    suptitle_label = r'pr($c_{NN} \\, | \\, \\mathbf{y}_{\\rm{exp}}, \\vec{a}_{{nn}}, I$)'\n",
    "fig.suptitle(suptitle_label, y=1.06, fontsize=11)\n",
    "# fig.tight_layout()\n",
    "# bbox_inches = 'tight' will mess up figure size but will get the title to fit.\n",
    "# Fix this later.\n",
    "fig.savefig(join(sample_directory, 'posterior_samples_nn_lecs.pdf'), bbox_inches='tight')"
   ]
  },
  {
   "cell_type": "code",
   "execution_count": null,
   "metadata": {},
   "outputs": [],
   "source": [
    "fig, axes = plt.subplots(n_all_lecs, n_all_lecs, figsize=(11, 8))\n",
    "fig = corner.corner(\n",
    "    all_lec_samples_flat, labels=all_lec_names_tex,\n",
    "    bins=20,\n",
    "#     quantiles=quantiles_1d,\n",
    "#     quantiles=quantiles_t,\n",
    "    hist_bin_factor=2,\n",
    "    show_titles=True,\n",
    "    title_kwargs={\"fontsize\": 5},\n",
    "#     levels=stdv_levels_2d,\n",
    "#     levels=stdv_levels_2d_t,\n",
    "    fig=fig,\n",
    "    range=[0.995] * n_all_lecs,\n",
    "    hist_kwargs={'density': True},\n",
    "    labelpad=0.4\n",
    ")\n",
    "\n",
    "# for (i, j), ax in np.ndenumerate(axes):\n",
    "#     if i >= j:\n",
    "#         ax.axvline(0, 0, 1, c='lightgrey', lw=1, zorder=-10)\n",
    "#         if i == j:\n",
    "#             plot_gaussian_from_params(\n",
    "#                 post_lec_samples_flat[:, i],\n",
    "#                 nn_lecs_loc[i], np.sqrt(nn_lecs_cov[i,i]),\n",
    "#                 ax=ax\n",
    "#             )\n",
    "#         if i != j:\n",
    "#             for stdv in [1, 2]:\n",
    "#                 pass\n",
    "#                 confidence_ellipse_mean_cov(\n",
    "#                     nn_lecs_loc[[j, i]], nn_lecs_cov[np.array([j, i])[:, None], [j, i]],\n",
    "#                     ax, n_std=stdv, edgecolor='r', zorder=10\n",
    "#                 )\n",
    "#             ax.axhline(0, 0, 1, c='lightgrey', lw=1, zorder=-10)\n",
    "\n",
    "            \n",
    "axes[2, -3].text(\n",
    "    0.05, 1.06, s=samples_description_string, ma='left', va='top',\n",
    "    bbox=dict(facecolor='w', boxstyle='round')\n",
    ")\n",
    "\n",
    "if include_in_emulator:\n",
    "    suptitle_label = r'pr($c_{NN+3BF} \\, | \\, \\mathbf{y}_{\\rm{exp}}, \\Sigma_{{nn}}, I$)'\n",
    "else:\n",
    "    suptitle_label = r'pr($c_{NN+3BF} \\, | \\, \\mathbf{y}_{\\rm{exp}}, \\vec{a}_{{nn}}, I$)'\n",
    "fig.suptitle(suptitle_label, y=1.06, fontsize=11)\n",
    "# fig.tight_layout()\n",
    "# bbox_inches = 'tight' will mess up figure size but will get the title to fit.\n",
    "# Fix this later.\n",
    "fig.savefig(join(sample_directory, 'posterior_samples_nn_and_3bf_lecs.pdf'), bbox_inches='tight')"
   ]
  },
  {
   "cell_type": "markdown",
   "metadata": {},
   "source": [
    "# Digression on integrating out Q (OLD!!)"
   ]
  },
  {
   "cell_type": "code",
   "execution_count": null,
   "metadata": {},
   "outputs": [],
   "source": [
    "def integrate_student_t_scale(t, df, prior):\n",
    "    def _integrand(scale, t_i):\n",
    "        return stats.t.pdf(t_i, df=df, scale=scale) * prior(scale)\n",
    "    integral = []\n",
    "    for t_i in t:\n",
    "        integral_i, err = integrate.quad(_integrand, a=0, b=np.inf, args=(t_i))\n",
    "        integral.append(integral_i)\n",
    "    return np.array(integral)"
   ]
  },
  {
   "cell_type": "code",
   "execution_count": null,
   "metadata": {},
   "outputs": [],
   "source": [
    "def scale_invariant_prior(s):\n",
    "    return 1.0 / s ** 2"
   ]
  },
  {
   "cell_type": "code",
   "execution_count": null,
   "metadata": {},
   "outputs": [],
   "source": [
    "from fit3bf.sampling import invchi2"
   ]
  },
  {
   "cell_type": "code",
   "execution_count": null,
   "metadata": {},
   "outputs": [],
   "source": [
    "def get_invchi2_dist(df, scale):\n",
    "    return stats.invgamma(df/2.0, scale=df * scale ** 2 / 2)"
   ]
  },
  {
   "cell_type": "code",
   "execution_count": null,
   "metadata": {},
   "outputs": [],
   "source": [
    "tt = np.linspace(-5, 5, 201)\n",
    "# integrated_t = integrate_student_t_scale(tt, df=5, prior=stats.beta(a=30.65, b=50).pdf)\n",
    "# integrated_t = integrate_student_t_scale(tt, df=5, prior=get_invchi2_dist(10, scale=1).pdf)\n",
    "# integrated_t = integrate_student_t_scale(tt, df=5, prior=get_invchi2_dist(100, scale=1).pdf)\n",
    "integrated_t = integrate_student_t_scale(tt, df=5, prior=lambda x: 1/x**2)\n",
    "\n",
    "# integrated_t_5 = integrate_student_t_scale(tt, df=5, prior=lambda x: 1/x**3)\n",
    "# integrated_t_50 = integrate_student_t_scale(tt, df=50, prior=lambda x: 1/x**2)\n",
    "# integrated_t_1 = integrate_student_t_scale(tt, df=3, prior=lambda x: 1/x**2)"
   ]
  },
  {
   "cell_type": "code",
   "execution_count": null,
   "metadata": {},
   "outputs": [],
   "source": [
    "plt.plot(tt, get_invchi2_dist(1, scale=1).pdf(tt))"
   ]
  },
  {
   "cell_type": "code",
   "execution_count": null,
   "metadata": {},
   "outputs": [],
   "source": [
    "def norm_t(t, df, scale):\n",
    "    pdf = stats.t.pdf(tt, df=df, scale=scale)\n",
    "    return pdf / pdf.max()"
   ]
  },
  {
   "cell_type": "code",
   "execution_count": null,
   "metadata": {},
   "outputs": [],
   "source": [
    "# plt.plot(tt, integrated_t/integrated_t.max())\n",
    "# plt.plot(tt, norm_t(tt, df=4, scale=0.37), ls='--')"
   ]
  },
  {
   "cell_type": "code",
   "execution_count": null,
   "metadata": {},
   "outputs": [],
   "source": [
    "plt.plot(tt, integrated_t/integrated_t.max())\n",
    "plt.plot(tt, norm_t(tt, df=4, scale=0.37), ls='--')"
   ]
  },
  {
   "cell_type": "code",
   "execution_count": null,
   "metadata": {},
   "outputs": [],
   "source": []
  }
 ],
 "metadata": {
  "kernelspec": {
   "display_name": "Python 3",
   "language": "python",
   "name": "python3"
  },
  "language_info": {
   "codemirror_mode": {
    "name": "ipython",
    "version": 3
   },
   "file_extension": ".py",
   "mimetype": "text/x-python",
   "name": "python",
   "nbconvert_exporter": "python",
   "pygments_lexer": "ipython3",
   "version": "3.8.5"
  }
 },
 "nbformat": 4,
 "nbformat_minor": 4
}
