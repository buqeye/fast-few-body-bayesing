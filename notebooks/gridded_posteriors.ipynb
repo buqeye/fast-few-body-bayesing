{
 "cells": [
  {
   "cell_type": "code",
   "execution_count": 1,
   "id": "olympic-measure",
   "metadata": {},
   "outputs": [],
   "source": [
    "%load_ext autoreload\n",
    "%autoreload 2\n",
    "%matplotlib inline\n",
    "\n",
    "from ruamel.yaml import YAML\n",
    "import schwimmbad\n",
    "from argparse import ArgumentParser\n",
    "\n",
    "import os\n",
    "from os.path import join, basename, splitext\n",
    "import sys\n",
    "import shutil\n",
    "\n",
    "import numpy as np\n",
    "import time\n",
    "import emcee\n",
    "from sklearn.utils import check_random_state\n",
    "import datetime\n",
    "import h5py\n",
    "import logging\n",
    "\n",
    "import matplotlib as mpl\n",
    "import matplotlib.pyplot as plt\n",
    "import matplotlib.ticker as ticker\n",
    "import pandas as pd\n",
    "import pickle\n",
    "import hickle\n",
    "import seaborn as sns\n",
    "from scipy import stats\n",
    "import corner\n",
    "\n",
    "\n",
    "from fit3bf.sampling import ObservableDistribution, TruncationDistribution\n",
    "from fit3bf.utils import dict_hash\n",
    "from fit3bf.observables import from_hdf5\n",
    "from fit3bf import setup_rc_params\n",
    "from fit3bf.constants import obs_names_tex_map\n",
    "from fit3bf.utils import find_contour_levels\n",
    "from fit3bf.graphs import darken_color, lighten_color"
   ]
  },
  {
   "cell_type": "code",
   "execution_count": 2,
   "id": "pressing-frost",
   "metadata": {},
   "outputs": [],
   "source": [
    "setup_rc_params()"
   ]
  },
  {
   "cell_type": "markdown",
   "id": "packed-electronics",
   "metadata": {},
   "source": [
    "# User Input\n",
    "\n",
    "This notebook creates the gridded pdfs shown in Figs. 6 and 7. It must be run multiple times with the settings:\n",
    "* Fig. 6(a): `cbar = 0`, `Q = 0.33`, and `fit_indiv = True` (this one takes a while to run due to increased grid density)\n",
    "* Fig. 6(b): `cbar = 1`, `Q = 0.33`, and `fit_indiv = True`\n",
    "* Fig. 7: `cbar = 1`, `Q = 0.33`, and `fit_indiv = False`\n",
    "\n",
    "This requires emulators to be created for the 3-body LECs, not including the NN LECs. Ensure that the `object_directory` inside of the sampling parameters file corresponds to this set of emulators."
   ]
  },
  {
   "cell_type": "code",
   "execution_count": 3,
   "id": "alone-navigation",
   "metadata": {},
   "outputs": [],
   "source": [
    "script_path = '../scripts/'\n",
    "parameters_file = join(script_path, 'parameters/sampling_3bf_only.yaml')\n",
    "\n",
    "# Truncation parameters\n",
    "cbar = 1\n",
    "Q = 0.33\n",
    "\n",
    "# For file names\n",
    "cbar_str = f\"{cbar}\".replace(\".\", \"p\")\n",
    "Q_str = f\"{Q}\".replace(\".\", \"p\")\n",
    "\n",
    "# Whether to fit sets of observables or individual ones\n",
    "fit_indiv = False\n",
    "\n",
    "\n",
    "obs_sets = [\n",
    "    [\"H3\", \"He4\"],\n",
    "    [\"H3\", \"He4-radius\"],\n",
    "    [\"H3\", \"H3-halflife\"],\n",
    "#     [\"He4\", \"He4-radius\"],\n",
    "    [\"He4\", \"H3-halflife\"],\n",
    "#     [\"He4-radius\", \"H3-halflife\"],\n",
    "    [\"H3\", \"He4\", \"He4-radius\", \"H3-halflife\"],\n",
    "]\n",
    "obs_sets_indiv = [\n",
    "    [\"H3\"],\n",
    "    [\"He4\"],\n",
    "    [\"He4-radius\"],\n",
    "    [\"H3-halflife\"],\n",
    "]\n",
    "\n",
    "\n",
    "if fit_indiv and cbar == 0:\n",
    "    # For 1 at a time, no truncation\n",
    "    cd_vals = np.linspace(-2.1, 2.1, 1001)\n",
    "    ce_vals = np.linspace(-0.75, 0.3, 1001)\n",
    "elif fit_indiv and cbar > 0:\n",
    "    # For 1 at a time, with truncation\n",
    "    cd_vals = np.linspace(-2.1, 2.1, 401)\n",
    "    ce_vals = np.linspace(-0.75, 0.3, 501)\n",
    "elif not fit_indiv and cbar > 0:\n",
    "    # For 2 at a time, with truncation\n",
    "    cd_vals = np.linspace(-3, 3, 301)\n",
    "    ce_vals = np.linspace(-0.9, 0.3, 401)\n",
    "else:\n",
    "    # For 2 at a time, without truncation. Not shown in paper.\n",
    "    cd_vals = np.linspace(-3, 3, 1001)\n",
    "    ce_vals = np.linspace(-0.9, 0.3, 1001)"
   ]
  },
  {
   "cell_type": "markdown",
   "id": "cosmetic-bandwidth",
   "metadata": {},
   "source": [
    "# Compute PDF grids\n",
    "\n",
    "This was basically copied from the training script."
   ]
  },
  {
   "cell_type": "code",
   "execution_count": 4,
   "id": "seven-cleanup",
   "metadata": {},
   "outputs": [
    {
     "name": "stdout",
     "output_type": "stream",
     "text": [
      "['H3', 'He4']\n",
      "['H3', 'He4'] H3-He4\n",
      "[ 8.482 28.296] [ True  True]\n",
      "The ignored observables are not all in the list of observable names.\n",
      "trunc_ignore_observables = ['H3-halflife']\n",
      "Bad indices: [ True]\n",
      "observable_names = ['H3', 'He4']\n",
      "(301, 401) 120701\n",
      "['H3', 'He4-radius']\n",
      "['H3', 'He4-radius'] H3-He4-radius\n",
      "[8.482  1.4552] [ True  True]\n",
      "The ignored observables are not all in the list of observable names.\n",
      "trunc_ignore_observables = ['H3-halflife']\n",
      "Bad indices: [ True]\n",
      "observable_names = ['H3', 'He4-radius']\n",
      "(301, 401) 120701\n",
      "['H3', 'H3-halflife']\n",
      "['H3', 'H3-halflife'] H3-H3-halflife\n",
      "[   8.482 1129.6  ] [ True False]\n",
      "(301, 401) 120701\n",
      "['He4', 'H3-halflife']\n",
      "['He4', 'H3-halflife'] He4-H3-halflife\n",
      "[  28.296 1129.6  ] [ True False]\n",
      "(301, 401) 120701\n",
      "['H3', 'He4', 'He4-radius', 'H3-halflife']\n",
      "['H3', 'He4', 'He4-radius', 'H3-halflife'] H3-He4-He4-radius-H3-halflife\n",
      "[   8.482    28.296     1.4552 1129.6   ] [ True  True  True False]\n",
      "(301, 401) 120701\n"
     ]
    }
   ],
   "source": [
    "if fit_indiv:\n",
    "    log_pdf_map_var = log_pdf_indiv_map = {}\n",
    "    pdf_map_var = pdf_indiv_map = {}\n",
    "else:\n",
    "    log_pdf_map_var = log_pdf_map = {}\n",
    "    pdf_map_var = pdf_map = {}\n",
    "\n",
    "\n",
    "obs_set_var = obs_sets\n",
    "if fit_indiv:\n",
    "    obs_set_var = obs_sets_indiv\n",
    "for obs_lst in obs_set_var:\n",
    "    print(obs_lst)\n",
    "\n",
    "    yaml = YAML(typ=\"safe\")\n",
    "    with open(parameters_file, \"r\") as input_file:\n",
    "        input_parameters = yaml.load(input_file)\n",
    "\n",
    "    fit_obs = []\n",
    "    fit_obs_str = \"\"\n",
    "\n",
    "    for obs in input_parameters[\"observables\"]:\n",
    "        if obs_lst is not None:\n",
    "            if obs in obs_lst:\n",
    "                input_parameters[\"observables\"][obs][\"fit\"] = True\n",
    "            else:\n",
    "                input_parameters[\"observables\"][obs][\"fit\"] = False\n",
    "        if input_parameters[\"observables\"][obs][\"fit\"]:\n",
    "            fit_obs.append(obs)\n",
    "            fit_obs_str += obs + \"-\"\n",
    "    fit_obs_str = fit_obs_str[:-1]\n",
    "    print(fit_obs, fit_obs_str)\n",
    "\n",
    "    input_hash = dict_hash(input_parameters)\n",
    "    param_basename = splitext(basename(parameters_file))[0]\n",
    "    now = datetime.datetime.now().strftime(\"%Y-%m-%d-%H-%M-%S\")\n",
    "\n",
    "\n",
    "    ####################################################################\n",
    "    # Set up ObservableDistribution object, which holds\n",
    "    # all observable classes to make predictions, and the data\n",
    "    # necessary to fit the parameters\n",
    "    ####################################################################\n",
    "    data = []\n",
    "    data_stdv = []\n",
    "    observables = []\n",
    "\n",
    "    object_directory = join(script_path, input_parameters[\"mcmc\"][\"object_directory\"])\n",
    "    observable_names = []\n",
    "    for obs_name, obs in input_parameters[\"observables\"].items():\n",
    "        if obs[\"fit\"]:\n",
    "            data.append(obs[\"experiment_central_value\"])\n",
    "            data_stdv.append(obs[\"experiment_standard_deviation\"])\n",
    "            observable_names.append(obs_name)\n",
    "            observables.append(from_hdf5(join(object_directory, f\"{obs_name}.h5\")))\n",
    "            # with open(join(object_directory, obs_name + \".pickle\"), \"rb\") as file:\n",
    "            #     observables.append(pickle.load(file))\n",
    "    cov_expt = np.diag(data_stdv) ** 2\n",
    "\n",
    "    hyp = input_parameters[\"hyperparameters\"]\n",
    "    mcmc = input_parameters[\"mcmc\"]\n",
    "    output_directory = join(object_directory, fit_obs_str + \"_\" + now)\n",
    "    output_file = join(output_directory, mcmc[\"output_file\"])\n",
    "    parameter_names = mcmc[\"parameter_names\"]\n",
    "    post_parameter_names = mcmc[\"posterior_parameter_names\"]\n",
    "    use_post_parameters = (post_parameter_names is not None) and (len(post_parameter_names) != 0)\n",
    "\n",
    "    if use_post_parameters:\n",
    "        posterior_lecs_indices = np.where(np.isin(parameter_names, post_parameter_names))[0]\n",
    "    else:\n",
    "        posterior_lecs_indices = None\n",
    "\n",
    "    if not use_post_parameters:\n",
    "        loc_post_lecs = None\n",
    "        cov_post_lecs = None\n",
    "    else:\n",
    "        with open(hyp[\"mean_file\"], \"r\") as input_file:\n",
    "            post_param_map = yaml.load(input_file)\n",
    "            loc_post_lecs = np.array([post_param_map[name] for name in post_parameter_names])\n",
    "        cov_post_lecs = np.load(hyp[\"posterior_parameters_covariance_file\"], allow_pickle=False)\n",
    "\n",
    "    y_ref = hyp[\"y_ref\"]\n",
    "    truncation_ignore_observables = hyp[\"truncation_ignore_observables\"]\n",
    "    trunc_dist_obs_mask = np.ones(len(observable_names), dtype=bool)\n",
    "    if y_ref == \"expt\":\n",
    "        y_ref = np.array(np.abs(data))\n",
    "        if truncation_ignore_observables is not None:\n",
    "            trunc_dist_obs_mask = ~np.isin(observable_names, truncation_ignore_observables)\n",
    "            print(y_ref, trunc_dist_obs_mask)\n",
    "            y_ref = y_ref[trunc_dist_obs_mask]\n",
    "    else:\n",
    "        y_ref = np.array(y_ref)\n",
    "\n",
    "    y_lower = []\n",
    "    for i, obs in enumerate(observable_names):\n",
    "        if trunc_dist_obs_mask[i]:\n",
    "            y_lower.append(hyp[\"y_lower\"][obs])\n",
    "    y_lower = np.asarray(y_lower)\n",
    "\n",
    "    trunc_dist = TruncationDistribution(\n",
    "        df_0=hyp[\"cbar\"][\"degrees_of_freedom\"],\n",
    "        scale_0=hyp[\"cbar\"][\"scale\"],\n",
    "        a_0=hyp[\"Q\"][\"a\"],\n",
    "        b_0=hyp[\"Q\"][\"b\"],\n",
    "        y_lower=y_lower,\n",
    "        orders_lower=np.atleast_1d(hyp[\"orders_lower\"]),\n",
    "        ignore_orders=hyp[\"ignore_orders\"],\n",
    "        y_ref=y_ref,\n",
    "        update_prior=True,\n",
    "        deg_quadrature=hyp[\"deg_quadrature\"]\n",
    "    )\n",
    "\n",
    "\n",
    "    # This will do most of the work behind the scenes\n",
    "    obs_dist = ObservableDistribution(\n",
    "        data=data,\n",
    "        observables=observables,\n",
    "        order=hyp[\"EFT_order\"],\n",
    "        cov_expt=cov_expt,\n",
    "        mean_posterior_lecs=loc_post_lecs,\n",
    "        cov_posterior_lecs=cov_post_lecs,\n",
    "        lecs_prior_std=hyp[\"prior_standard_deviation\"],\n",
    "        trunc_dist=trunc_dist,\n",
    "        trunc_ignore_observables=truncation_ignore_observables,\n",
    "        cbar=hyp[\"cbar\"][\"fixed_value\"],\n",
    "        Q=hyp[\"Q\"][\"fixed_value\"],\n",
    "        return_predictions=mcmc[\"store_predictions\"],\n",
    "        output_file=output_file,\n",
    "        observable_names=observable_names,\n",
    "        parameter_names=mcmc[\"parameter_names\"],\n",
    "        compute_gradients=hyp[\"use_gradients\"],\n",
    "        posterior_lecs_indices=posterior_lecs_indices,\n",
    "    )\n",
    "    \n",
    "    \n",
    "    log_pdf_mat = np.zeros((len(cd_vals), len(ce_vals)))\n",
    "    print(log_pdf_mat.shape, log_pdf_mat.size)\n",
    "    # for i, lecs in enumerate(lec_vals):\n",
    "    #     if i % 1000 == 0:\n",
    "    #         print(i)\n",
    "    #     log_pdf[i] = obs_dist.logpdf(lecs, cbar=0, Q=0.33, return_predictions=False)\n",
    "    nn = 0\n",
    "    for i, cd in enumerate(cd_vals):\n",
    "        for j, ce in enumerate(ce_vals):\n",
    "            nn += 1\n",
    "            if nn % 1000 == 0:\n",
    "#                 print(nn)\n",
    "                pass\n",
    "            log_pdf_mat[i, j] = obs_dist.logpdf(np.array([cd, ce]), cbar=cbar, Q=Q, return_predictions=False)\n",
    "    log_pdf_mat = log_pdf_mat - np.max(log_pdf_mat)\n",
    "    pdf_mat = np.exp(log_pdf_mat)\n",
    "    pdf_mat = pdf_mat / np.trapz(np.trapz(pdf_mat, ce_vals), cd_vals)\n",
    "    \n",
    "    log_pdf_map_var[tuple(obs_lst)] = log_pdf_mat\n",
    "    pdf_map_var[tuple(obs_lst)] = pdf_mat"
   ]
  },
  {
   "cell_type": "markdown",
   "id": "exotic-safety",
   "metadata": {},
   "source": [
    "Dump the gridded pdfs just in case you want to access them later."
   ]
  },
  {
   "cell_type": "code",
   "execution_count": 14,
   "id": "conventional-sapphire",
   "metadata": {},
   "outputs": [],
   "source": [
    "out_map = pdf_map_var.copy()\n",
    "out_map[\"cD\"] = cd_vals\n",
    "out_map[\"cE\"] = ce_vals\n",
    "out_map[\"cbar\"] = cbar\n",
    "out_map[\"Q\"] = Q\n",
    "\n",
    "if fit_indiv:\n",
    "    num_obs_str = \"single\"\n",
    "else:\n",
    "    num_obs_str = \"multi\"\n",
    "\n",
    "with open(f\"{num_obs_str}_obs_fit_grid_cbar-{cbar_str}_Q-{Q_str}_new.h5\", 'w') as file:\n",
    "    hickle.dump(out_map, file)"
   ]
  },
  {
   "cell_type": "markdown",
   "id": "peaceful-mediterranean",
   "metadata": {},
   "source": [
    "This is how to load it back in:"
   ]
  },
  {
   "cell_type": "code",
   "execution_count": 124,
   "id": "presidential-maple",
   "metadata": {},
   "outputs": [],
   "source": [
    "# with open(f\"{num_obs_str}_obs_fit_grid_cbar-{cbar_str}_Q-{Q_str}_new.h5\", 'r') as file:\n",
    "#     out_map = hickle.load(file)\n",
    "# pdf_map_var = out_map\n",
    "# if fit_indiv:\n",
    "#     pdf_indiv_map = pdf_map_var\n",
    "# else:\n",
    "#     pdf_map = pdf_map_var\n",
    "# cd_vals = out_map['cD']\n",
    "# ce_vals = out_map['cE']"
   ]
  },
  {
   "cell_type": "markdown",
   "id": "valued-canon",
   "metadata": {},
   "source": [
    "# Setup Plots"
   ]
  },
  {
   "cell_type": "markdown",
   "id": "quick-empire",
   "metadata": {},
   "source": [
    "Choose the amount of probability mass around which to draw a contour. Generally we will show 1$\\sigma$ bands (`contour_masses`), but we also create `contour_masses2` that goes to 2$\\sigma$ for bands that are already very thin (the `He4` bands when `cbar = 0`) simply to make it more visible. These are based on 2d Gaussian masses that correspond to 1 and 2 $\\sigma$."
   ]
  },
  {
   "cell_type": "code",
   "execution_count": 18,
   "id": "swedish-mailman",
   "metadata": {},
   "outputs": [],
   "source": [
    "contour_masses = np.array([0] + [1-np.exp(-0.5*r**2) for r in [1]])\n",
    "contour_masses2 = np.array([0] + [1-np.exp(-0.5*r**2) for r in [1, 2]])"
   ]
  },
  {
   "cell_type": "code",
   "execution_count": 127,
   "id": "sixth-entrance",
   "metadata": {},
   "outputs": [
    {
     "data": {
      "text/plain": [
       "array([0.        , 0.39346934])"
      ]
     },
     "execution_count": 127,
     "metadata": {},
     "output_type": "execute_result"
    }
   ],
   "source": [
    "contour_masses"
   ]
  },
  {
   "cell_type": "code",
   "execution_count": 15,
   "id": "olympic-match",
   "metadata": {},
   "outputs": [],
   "source": [
    "c_H3_dark = sns.color_palette(\"deep\")[2]\n",
    "c_H3_light = sns.color_palette(\"pastel\")[2]\n",
    "\n",
    "c_He4_dark = sns.color_palette(\"muted\")[0]\n",
    "c_He4_light = sns.color_palette(\"pastel\")[0]\n",
    "\n",
    "c_He4r_dark = sns.color_palette(\"muted\")[1]\n",
    "c_He4r_light = darken_color(sns.color_palette(\"pastel\")[1], amount=0.95)\n",
    "\n",
    "c_H3ft_dark = 'k'\n",
    "c_H3ft_light = 'lightgray'"
   ]
  },
  {
   "cell_type": "markdown",
   "id": "canadian-sunset",
   "metadata": {},
   "source": [
    "## Individual PDFs Plot\n",
    "\n",
    "Set up the plotting parameters for the different truncation settings."
   ]
  },
  {
   "cell_type": "code",
   "execution_count": 125,
   "id": "continued-produce",
   "metadata": {},
   "outputs": [],
   "source": [
    "if fit_indiv:\n",
    "    mpl.rcParams[\"hatch.color\"] = c_He4_dark\n",
    "\n",
    "    if cbar == 0:\n",
    "        obs_contour_kwargs = {\n",
    "            'H3': {\n",
    "                \"levels\": find_contour_levels(pdf_indiv_map[(\"H3\",)], levels=contour_masses),\n",
    "                \"colors\": [c_H3_light],\n",
    "                'linestyles': None,\n",
    "                \"linewidths\": [1],\n",
    "                \"zorder\": 2,\n",
    "                \"contour_kwargs\": {\"colors\": [c_H3_dark], \"linewidths\": [1],}\n",
    "\n",
    "            },\n",
    "            'He4': {\n",
    "                \"levels\": find_contour_levels(pdf_indiv_map[(\"He4\",)], levels=contour_masses2),\n",
    "                \"colors\": [c_He4_light],\n",
    "                \"linewidths\": [1],\n",
    "                \"zorder\": 3,\n",
    "                \"contour_kwargs\": {\"colors\": [c_He4_dark], \"linewidths\": [1],}\n",
    "            },\n",
    "            'He4-radius': {\n",
    "                \"colors\": [c_He4r_light],\n",
    "                \"levels\": find_contour_levels(pdf_indiv_map[(\"He4-radius\",)], levels=contour_masses),\n",
    "                \"zorder\": 0,\n",
    "                \"contour_kwargs\": {\"colors\": [c_He4r_dark], \"linewidths\": [1],}\n",
    "            },\n",
    "            'H3-halflife':{\n",
    "                'alpha': 0.3,\n",
    "                \"levels\": find_contour_levels(pdf_indiv_map[(\"H3-halflife\",)], levels=contour_masses),\n",
    "                \"zorder\": 1,\n",
    "                \"colors\": c_H3ft_light,\n",
    "                \"contour_kwargs\": {\"colors\": [c_H3ft_dark], \"linewidths\": [1], \"alpha\": 1}\n",
    "            },\n",
    "        }\n",
    "\n",
    "        obs_contour_is_filled = {\n",
    "            'H3': 'both',\n",
    "            'He4': 'both',\n",
    "            'He4-radius': 'both',\n",
    "            'H3-halflife': 'both',\n",
    "        }\n",
    "        obs_contour_text_kwargs = {\n",
    "            'H3': {\"x\": 0.93, \"y\": 0.65, \"c\": c_H3_dark, \"ha\": \"right\", \"va\": \"top\"},\n",
    "            'He4': {\"x\": 0.93, \"y\": 0.915, \"c\": c_He4_dark, \"ha\": \"right\", \"va\": \"top\"},\n",
    "            'He4-radius': {\"x\": 0.05, \"y\": 0.05, \"c\": c_He4r_dark, \"ha\": \"left\", \"va\": \"bottom\"},\n",
    "            'H3-halflife': {\"x\": 0.615, \"y\": 0.05, \"c\": c_H3ft_dark, \"ha\": \"left\", \"va\": \"bottom\"},\n",
    "        }\n",
    "    else:\n",
    "        obs_contour_kwargs = {\n",
    "            'H3': {\n",
    "                \"levels\": find_contour_levels(pdf_indiv_map[(\"H3\",)], levels=contour_masses),\n",
    "                \"colors\": [c_H3_light],\n",
    "                'linestyles': None,\n",
    "                \"linewidths\": [1],\n",
    "                \"zorder\": 2,\n",
    "                \"contour_kwargs\": {\"colors\": [c_H3_dark], \"linewidths\": [1],}\n",
    "            },\n",
    "            'He4': {\n",
    "                \"levels\": find_contour_levels(pdf_indiv_map[(\"He4\",)], levels=contour_masses),\n",
    "                \"colors\": [c_He4_light],\n",
    "                \"edgecolor\": [c_He4_light],\n",
    "                \"alpha\": 0.3,\n",
    "                \"hatches\": [\"\\\\\\\\\"],\n",
    "                \"linewidths\": [1],\n",
    "                \"zorder\": 3,\n",
    "                \"contour_kwargs\": {\"colors\": [c_He4_dark], \"linewidths\": [1], \"alpha\": 1}\n",
    "            },\n",
    "            'He4-radius': {\n",
    "                \"colors\": [c_He4r_light],\n",
    "                \"levels\": find_contour_levels(pdf_indiv_map[(\"He4-radius\",)], levels=contour_masses),\n",
    "                \"zorder\": 0,\n",
    "                \"contour_kwargs\": {\"colors\": [c_He4r_dark], \"linewidths\": [1],}\n",
    "            },\n",
    "            'H3-halflife':{\n",
    "                'alpha': 0.3,\n",
    "                \"levels\": find_contour_levels(pdf_indiv_map[(\"H3-halflife\",)], levels=contour_masses),\n",
    "                \"zorder\": 1,\n",
    "                \"colors\": c_H3ft_light,\n",
    "                \"contour_kwargs\": {\"colors\": [c_H3ft_dark], \"linewidths\": [1], 'alpha': 1}\n",
    "            },\n",
    "        }\n",
    "\n",
    "        obs_contour_is_filled = {\n",
    "            'H3': 'both',\n",
    "            'He4': 'both',\n",
    "            'He4-radius': 'both',\n",
    "            'H3-halflife': \"both\",\n",
    "        }\n",
    "        obs_contour_text_kwargs = {\n",
    "            'H3': {\"x\": 0.93, \"y\": 0.65, \"c\": c_H3_dark, \"ha\": \"right\", \"va\": \"top\"},\n",
    "            'He4': {\"x\": 0.93, \"y\": 0.915, \"c\": c_He4_dark, \"ha\": \"right\", \"va\": \"top\"},\n",
    "            'He4-radius': {\"x\": 0.05, \"y\": 0.05, \"c\": c_He4r_dark, \"ha\": \"left\", \"va\": \"bottom\"},\n",
    "            'H3-halflife': {\"x\": 0.615, \"y\": 0.05, \"c\": c_H3ft_dark, \"ha\": \"left\", \"va\": \"bottom\"},\n",
    "        }\n",
    "\n",
    "\n",
    "    # =============================================================\n",
    "    \n",
    "    \n",
    "    fig, ax = plt.subplots(1, 1, figsize=(3.4, 3.4), sharex=True, sharey=True)\n",
    "\n",
    "    for i, obs_lst in enumerate(obs_sets_indiv):\n",
    "        pdf_i = pdf_indiv_map[tuple(obs_lst)]\n",
    "        obs_lst_i = obs_lst[0]\n",
    "    #     ax = axes.ravel()[i]\n",
    "\n",
    "        kw = obs_contour_kwargs[obs_lst_i]\n",
    "        if obs_contour_is_filled[obs_lst[0]] == 'both':\n",
    "            ax.contourf(\n",
    "                cd_vals, ce_vals, pdf_i.T, **kw,\n",
    "            )\n",
    "            kw_contour = kw.copy()\n",
    "            if \"contour_kwargs\" in kw_contour:\n",
    "                kw_contour.update(kw[\"contour_kwargs\"])\n",
    "            ax.contour(\n",
    "                cd_vals, ce_vals, pdf_i.T, **kw_contour,\n",
    "            )\n",
    "        elif obs_contour_is_filled[obs_lst[0]] is True:\n",
    "            ax.contourf(\n",
    "                cd_vals, ce_vals, pdf_i.T, **kw\n",
    "            )\n",
    "        else:\n",
    "            ax.contour(\n",
    "                cd_vals, ce_vals, pdf_i.T, **kw,\n",
    "    #             label=obs_names_tex_map[obs_lst_i]\n",
    "            )\n",
    "        ax.yaxis.set_major_locator(ticker.MultipleLocator(0.5))\n",
    "        ax.yaxis.set_minor_locator(ticker.AutoMinorLocator(2))\n",
    "        ax.xaxis.set_minor_locator(ticker.AutoMinorLocator(2))\n",
    "        ax.tick_params(right=True, top=True, which='both')\n",
    "        if i == 0:\n",
    "            ax.set_ylabel(r\"$c_E$\")\n",
    "        ax.set_xlabel(r\"$c_D$\")\n",
    "    #     ax.text(\n",
    "    #         0.05, 0.95, f\"{obs_names_tex_map[obs_lst[0]]}\",\n",
    "    #         transform=ax.transAxes,\n",
    "    #         ma='left', ha='left', va='top',\n",
    "    #         bbox=dict(boxstyle=\"round\", facecolor=\"w\")\n",
    "    #     )\n",
    "        ax.text(\n",
    "            s=f\"{obs_names_tex_map[obs_lst[0]]}\",\n",
    "            transform=ax.transAxes,\n",
    "            bbox=dict(boxstyle=\"round\", facecolor=\"w\"),\n",
    "            **obs_contour_text_kwargs[obs_lst_i]\n",
    "        )\n",
    "\n",
    "    if cbar != 0:\n",
    "        desc_str = (\n",
    "            \"With EFT Error\\n\"\n",
    "            fr\"$\\bar c = {{{cbar}}}$,~~~\" #\"\\n\"\n",
    "            fr\"$Q = {{{Q}}}$\"\n",
    "        )\n",
    "    else:\n",
    "        desc_str = \"No EFT Error\"\n",
    "    ax.text(\n",
    "        x=0.05, y=0.95,\n",
    "        s=desc_str,\n",
    "        transform=ax.transAxes,\n",
    "        ma='left', ha='left', va='top',\n",
    "        bbox=dict(boxstyle=\"round\", facecolor=\"w\"),\n",
    "    );\n",
    "    # ax.legend()\n",
    "    fig.savefig(f\"single_obs_fit_grid_posteriors_cbar-{cbar_str}_Q-{Q_str}\", dpi=700)"
   ]
  },
  {
   "cell_type": "code",
   "execution_count": null,
   "id": "discrete-gender",
   "metadata": {},
   "outputs": [],
   "source": [
    "if fit_indiv:\n",
    "    print(\"The individual plots have completed. The rest of the notebook is only for fit_indiv = False.\")\n",
    "    assert False"
   ]
  },
  {
   "cell_type": "markdown",
   "id": "sapphire-probe",
   "metadata": {},
   "source": [
    "## Joint PDF Plots\n",
    "\n",
    "Although not shown in the paper, it is interesting to fit a Gaussian to the full 4-observable fit to see what its mean and covariance matrix are. Because `cbar` and `Q` are fixed, and the problem is approximately linear, a Gaussian is a good approximation."
   ]
  },
  {
   "cell_type": "code",
   "execution_count": 19,
   "id": "pharmaceutical-turning",
   "metadata": {},
   "outputs": [],
   "source": [
    "obs_lst_all = tuple([\"H3\", \"He4\", \"He4-radius\", \"H3-halflife\"])\n",
    "levels_all = find_contour_levels(pdf_map[obs_lst_all], levels=contour_masses)"
   ]
  },
  {
   "cell_type": "code",
   "execution_count": 34,
   "id": "instrumental-rolling",
   "metadata": {},
   "outputs": [],
   "source": [
    "c_mat = np.zeros((len(cd_vals), len(ce_vals), 2))\n",
    "c_mat[..., 0] = cd_vals[:, None]\n",
    "c_mat[..., 1] = ce_vals[None, :]"
   ]
  },
  {
   "cell_type": "code",
   "execution_count": 69,
   "id": "novel-depth",
   "metadata": {},
   "outputs": [],
   "source": [
    "from fit3bf.graphs import unmap_rho, map_rho, confidence_ellipse_mean_cov"
   ]
  },
  {
   "cell_type": "code",
   "execution_count": 64,
   "id": "imported-lebanon",
   "metadata": {},
   "outputs": [],
   "source": [
    "def unpack_normal_args(args):\n",
    "    mu = args[:2]\n",
    "    sd = np.exp(args[2:4])\n",
    "    rho = unmap_rho(args[4])\n",
    "    \n",
    "    cov = np.eye(2)\n",
    "    cov[np.tril_indices(2, -1)] = rho\n",
    "    cov[np.triu_indices(2, +1)] = rho\n",
    "    cov = sd * sd[:, None] * cov\n",
    "    return mu, cov\n",
    "\n",
    "\n",
    "def pdf_discrepancy(args, X, pdf):\n",
    "    mu, cov = unpack_normal_args(args)\n",
    "    try:\n",
    "        norm_pdf = stats.multivariate_normal(mean=mu, cov=cov).pdf(X)\n",
    "    except np.linalg.LinAlgError as e:\n",
    "        print(args)\n",
    "        print(mu, cov)\n",
    "        raise e\n",
    "    return np.sum((pdf - norm_pdf)**2)\n",
    "\n",
    "def fit_mv_normal_pdf(X, pdf, mu0, cov0):\n",
    "    from scipy import optimize\n",
    "    args = np.zeros(5)\n",
    "    args[:2] = mu0\n",
    "    args[2:4] = np.log(np.sqrt(np.diag(cov0)))\n",
    "    args[4] = map_rho(cov0[1, 0] / np.sqrt(cov0[0, 0]*cov0[1,1]))\n",
    "    print(args)\n",
    "    \n",
    "    \n",
    "    out = optimize.fmin(\n",
    "        pdf_discrepancy, x0=args, args=(X, pdf)\n",
    "    )\n",
    "    mu, cov = unpack_normal_args(out)\n",
    "    return mu, cov"
   ]
  },
  {
   "cell_type": "code",
   "execution_count": 52,
   "id": "modular-longitude",
   "metadata": {},
   "outputs": [],
   "source": [
    "max_idx = np.unravel_index(np.argmax(pdf_map[obs_lst_all]), pdf_map[obs_lst_all].shape)"
   ]
  },
  {
   "cell_type": "code",
   "execution_count": 48,
   "id": "informational-adobe",
   "metadata": {},
   "outputs": [],
   "source": [
    "mu_mean_all = c_mat[max_idx]"
   ]
  },
  {
   "cell_type": "code",
   "execution_count": 68,
   "id": "latest-master",
   "metadata": {},
   "outputs": [
    {
     "data": {
      "text/plain": [
       "array([-0.02 , -0.195])"
      ]
     },
     "execution_count": 68,
     "metadata": {},
     "output_type": "execute_result"
    }
   ],
   "source": [
    "mu_mean_all"
   ]
  },
  {
   "cell_type": "code",
   "execution_count": 49,
   "id": "educational-services",
   "metadata": {},
   "outputs": [],
   "source": [
    "cov_mean_all = np.eye(2)\n",
    "cov_mean_all[0, 0] = 0.5**2\n",
    "cov_mean_all[1, 1] = 0.5**2\n",
    "cov_mean_all[1, 0] = cov_mean_all[0, 1] = 0.5**2 * 0.8"
   ]
  },
  {
   "cell_type": "code",
   "execution_count": 65,
   "id": "mexican-suspect",
   "metadata": {},
   "outputs": [
    {
     "name": "stdout",
     "output_type": "stream",
     "text": [
      "[-0.02       -0.195      -0.69314718 -0.69314718  3.07768354]\n",
      "Optimization terminated successfully.\n",
      "         Current function value: 125.213223\n",
      "         Iterations: 351\n",
      "         Function evaluations: 577\n"
     ]
    }
   ],
   "source": [
    "mu_fit_all, cov_fit_all = fit_mv_normal_pdf(c_mat, pdf_map[obs_lst_all], mu0=mu_mean_all, cov0=cov_mean_all)"
   ]
  },
  {
   "cell_type": "code",
   "execution_count": 66,
   "id": "overhead-paper",
   "metadata": {
    "scrolled": true
   },
   "outputs": [
    {
     "data": {
      "text/plain": [
       "array([-0.01381504, -0.19443024])"
      ]
     },
     "execution_count": 66,
     "metadata": {},
     "output_type": "execute_result"
    }
   ],
   "source": [
    "mu_fit_all"
   ]
  },
  {
   "cell_type": "code",
   "execution_count": 67,
   "id": "complex-print",
   "metadata": {},
   "outputs": [
    {
     "data": {
      "text/plain": [
       "array([[0.17096303, 0.02975308],\n",
       "       [0.02975308, 0.00563931]])"
      ]
     },
     "execution_count": 67,
     "metadata": {},
     "output_type": "execute_result"
    }
   ],
   "source": [
    "cov_fit_all"
   ]
  },
  {
   "cell_type": "markdown",
   "id": "curious-turning",
   "metadata": {},
   "source": [
    "Joint fits: 3H & 4He energies; 3H energy & 4He radius; 3H energy & fT_{1/2}; 4He energy & fT_{1/2}"
   ]
  },
  {
   "cell_type": "code",
   "execution_count": 81,
   "id": "portable-usage",
   "metadata": {},
   "outputs": [
    {
     "name": "stderr",
     "output_type": "stream",
     "text": [
      "<ipython-input-81-3771d6338b66>:45: UserWarning: This figure was using constrained_layout==True, but that is incompatible with subplots_adjust and or tight_layout: setting constrained_layout==False. \n",
      "  fig.tight_layout(h_pad=0.4, w_pad=0.4, pad=0.2)\n"
     ]
    },
    {
     "data": {
      "image/png": "[encoded data removed]",
      "text/plain": [
       "<Figure size 510x510 with 4 Axes>"
      ]
     },
     "metadata": {},
     "output_type": "display_data"
    }
   ],
   "source": [
    "fig, axes = plt.subplots(2, 2, figsize=(3.4, 3.4), sharex=True, sharey=True)\n",
    "\n",
    "c_two_dark = sns.color_palette(\"muted\")[0]\n",
    "c_two_light = sns.color_palette(\"pastel\")[0]\n",
    "\n",
    "for i, obs_lst in enumerate([\n",
    "    [\"H3\", \"He4\"],\n",
    "    [\"H3\", \"He4-radius\"],\n",
    "    [\"H3\", \"H3-halflife\"],\n",
    "    [\"He4\", \"H3-halflife\"]\n",
    "]):\n",
    "    obs_lst_i = tuple(obs_lst)\n",
    "    pdf_i = pdf_map[obs_lst_i]\n",
    "    levels_i = find_contour_levels(pdf_i, levels=contour_masses)\n",
    "    ax = axes.ravel()[i]\n",
    "    ax.contourf(cd_vals, ce_vals, pdf_i.T, levels=levels_i, colors=[c_two_light], zorder=1)\n",
    "    ax.contour(cd_vals, ce_vals, pdf_i.T, levels=levels_i, colors=[c_two_dark], zorder=1)\n",
    "    \n",
    "    ax.contour(\n",
    "        cd_vals, ce_vals, pdf_map[obs_lst_all].T,\n",
    "        levels=levels_all, colors=['r'],\n",
    "        linestyles=[\"dashed\"],\n",
    "        linewidths=[0.9],\n",
    "        zorder=2,\n",
    "    )\n",
    "    \n",
    "    # Uncomment this line if you want to see the Gaussian fit:\n",
    "    # confidence_ellipse_mean_cov(mu_fit_all, cov_fit_all, ax=ax, n_std=1, facecolor='y', edgecolor='y', zorder=1.3)\n",
    "    \n",
    "    ax.yaxis.set_major_locator(ticker.MultipleLocator(0.5))\n",
    "    ax.yaxis.set_minor_locator(ticker.AutoMinorLocator(2))\n",
    "    ax.xaxis.set_minor_locator(ticker.AutoMinorLocator(2))\n",
    "    ax.tick_params(right=True, top=True, which='both')\n",
    "    if i % 2 == 0:\n",
    "        ax.set_ylabel(r\"$c_E$\")\n",
    "    if i > 1:\n",
    "        ax.set_xlabel(r\"$c_D$\")\n",
    "    ax.text(\n",
    "        0.1, 0.9, f\"{obs_names_tex_map[obs_lst[0]]}\\n{obs_names_tex_map[obs_lst[1]]}\",\n",
    "        transform=ax.transAxes,\n",
    "        ma='left', ha='left', va='top',\n",
    "        bbox=dict(boxstyle=\"round\", facecolor=\"w\")\n",
    "    )\n",
    "#     ax.set_xlim(-2.5, 2.5)\n",
    "    ax.axhline(0, 0, 1, c='lightgrey', lw=1, zorder=0)\n",
    "    ax.axvline(0, 0, 1, c='lightgrey', lw=1, zorder=0)\n",
    "fig.tight_layout(h_pad=0.4, w_pad=0.4, pad=0.2)\n",
    "fig.savefig(f\"double_obs_fit_grid_posteriors_cbar-{cbar_str}_Q-{Q_str}\", dpi=700)"
   ]
  },
  {
   "cell_type": "markdown",
   "id": "broad-electricity",
   "metadata": {},
   "source": [
    "# OLD STUFF BELOW\n",
    "\n",
    "---"
   ]
  },
  {
   "cell_type": "code",
   "execution_count": 7,
   "id": "sacred-landscape",
   "metadata": {},
   "outputs": [
    {
     "ename": "AssertionError",
     "evalue": "",
     "output_type": "error",
     "traceback": [
      "\u001b[0;31m---------------------------------------------------------------------------\u001b[0m",
      "\u001b[0;31mAssertionError\u001b[0m                            Traceback (most recent call last)",
      "\u001b[0;32m<ipython-input-7-a871fdc9ebee>\u001b[0m in \u001b[0;36m<module>\u001b[0;34m\u001b[0m\n\u001b[0;32m----> 1\u001b[0;31m \u001b[0;32massert\u001b[0m \u001b[0;32mFalse\u001b[0m\u001b[0;34m\u001b[0m\u001b[0;34m\u001b[0m\u001b[0m\n\u001b[0m",
      "\u001b[0;31mAssertionError\u001b[0m: "
     ]
    }
   ],
   "source": [
    "assert False"
   ]
  },
  {
   "cell_type": "code",
   "execution_count": 20,
   "id": "joint-option",
   "metadata": {},
   "outputs": [
    {
     "data": {
      "image/png": "[encoded data removed]",
      "text/plain": [
       "<Figure size 1050x600 with 6 Axes>"
      ]
     },
     "metadata": {},
     "output_type": "display_data"
    }
   ],
   "source": [
    "fig, axes = plt.subplots(2, 3, figsize=(7, 4), sharex=True, sharey=True)\n",
    "\n",
    "for i, obs_lst in enumerate(obs_sets):\n",
    "    pdf_i = pdf_map[tuple(obs_lst)]\n",
    "    ax = axes.ravel()[i]\n",
    "    ax.contourf(cd_vals, ce_vals, pdf_i.T)\n",
    "    ax.yaxis.set_major_locator(ticker.MultipleLocator(0.5))\n",
    "    ax.yaxis.set_minor_locator(ticker.AutoMinorLocator(2))\n",
    "    ax.xaxis.set_minor_locator(ticker.AutoMinorLocator(2))\n",
    "    ax.tick_params(right=True, top=True, which='both')\n",
    "    if i % 3 == 0:\n",
    "        ax.set_ylabel(r\"$c_E$\")\n",
    "    if i > 2:\n",
    "        ax.set_xlabel(r\"$c_D$\")\n",
    "    ax.text(\n",
    "        0.05, 0.95, f\"{obs_names_tex_map[obs_lst[0]]}\\n{obs_names_tex_map[obs_lst[1]]}\",\n",
    "        transform=ax.transAxes,\n",
    "        ma='left', ha='left', va='top',\n",
    "        bbox=dict(boxstyle=\"round\", facecolor=\"w\")\n",
    "    )"
   ]
  },
  {
   "cell_type": "code",
   "execution_count": null,
   "id": "major-malaysia",
   "metadata": {},
   "outputs": [],
   "source": [
    "def cartesian(*arrays):\n",
    "    \"\"\"Makes the Cartesian product of arrays.\n",
    "\n",
    "    Parameters\n",
    "    ----------\n",
    "    *arrays : array group, shapes = (N_1,), (N_2,), ..., (N_p,)\n",
    "            1D arrays where earlier arrays loop more slowly than later ones\n",
    "\n",
    "    Returns\n",
    "    -------\n",
    "    array, shape = (N_1 * N_2 * ... * N_p, p)\n",
    "        The cartesian product\n",
    "    \"\"\"\n",
    "    N = len(arrays)\n",
    "    return np.stack(np.meshgrid(*arrays, indexing='ij'), -1).reshape(-1, N)"
   ]
  },
  {
   "cell_type": "code",
   "execution_count": null,
   "id": "cultural-darkness",
   "metadata": {},
   "outputs": [],
   "source": [
    "fit_obs_str"
   ]
  },
  {
   "cell_type": "code",
   "execution_count": null,
   "id": "laden-expansion",
   "metadata": {},
   "outputs": [],
   "source": [
    "\n",
    "\n",
    "# # cd_vals = np.linspace(-1.5, -0.5, 101)\n",
    "# # ce_vals = np.linspace(-0.5, -0.2, 201)\n",
    "# lec_vals = cartesian(cd_vals, ce_vals)\n",
    "\n",
    "# # log_pdf = np.zeros(len(lec_vals))\n",
    "# log_pdf_mat = np.zeros((len(cd_vals), len(ce_vals)))\n",
    "# print(log_pdf_mat.shape, log_pdf_mat.size)\n",
    "# # for i, lecs in enumerate(lec_vals):\n",
    "# #     if i % 1000 == 0:\n",
    "# #         print(i)\n",
    "# #     log_pdf[i] = obs_dist.logpdf(lecs, cbar=0, Q=0.33, return_predictions=False)\n",
    "# nn = 0\n",
    "# for i, cd in enumerate(cd_vals):\n",
    "#     for j, ce in enumerate(ce_vals):\n",
    "#         nn += 1\n",
    "#         if nn % 1000 == 0:\n",
    "#             print(nn)\n",
    "#         log_pdf_mat[i, j] = obs_dist.logpdf(np.array([cd, ce]), cbar=0, Q=0.33, return_predictions=False)\n",
    "# log_pdf_mat = log_pdf_mat - np.max(log_pdf_mat)\n",
    "# pdf_mat = np.exp(log_pdf_mat)\n",
    "# pdf_mat = pdf_mat / np.trapz(np.trapz(pdf_mat, ce_vals), cd_vals)"
   ]
  },
  {
   "cell_type": "code",
   "execution_count": null,
   "id": "academic-attack",
   "metadata": {},
   "outputs": [],
   "source": [
    "fig, ax = plt.subplots(figsize=(3.4, 3.4))\n",
    "ax.contourf(ce_vals, cd_vals, pdf_mat)\n",
    "ax.set_xlabel(r\"$c_E$\")\n",
    "ax.set_ylabel(r\"$c_D$\")\n",
    "ax.set_title(f\"pr($c_D, c_E$) -- Only Expt. Errors, {fit_obs_str}\")"
   ]
  },
  {
   "cell_type": "code",
   "execution_count": null,
   "id": "american-graduation",
   "metadata": {},
   "outputs": [],
   "source": [
    "fig, ax = plt.subplots(figsize=(3.4, 3.4))\n",
    "ax.contourf(ce_vals, cd_vals, pdf_mat)\n",
    "ax.set_xlabel(r\"$c_E$\")\n",
    "ax.set_ylabel(r\"$c_D$\")\n",
    "ax.set_title(\"pr($c_D, c_E$) -- Only Expt. Errors\")"
   ]
  },
  {
   "cell_type": "code",
   "execution_count": null,
   "id": "express-walker",
   "metadata": {},
   "outputs": [],
   "source": [
    "fig, ax = plt.subplots(figsize=(3.4, 3.4))\n",
    "ax.contourf(ce_vals, cd_vals, pdf_mat)\n",
    "ax.set_xlabel(r\"$c_E$\")\n",
    "ax.set_ylabel(r\"$c_D$\")\n",
    "ax.set_title(\"pr($c_D, c_E$)\")"
   ]
  },
  {
   "cell_type": "code",
   "execution_count": null,
   "id": "equipped-ambassador",
   "metadata": {},
   "outputs": [],
   "source": [
    "plt.contourf(ce_vals, cd_vals, np.exp(log_pdf_mat))"
   ]
  },
  {
   "cell_type": "code",
   "execution_count": null,
   "id": "detailed-secretariat",
   "metadata": {},
   "outputs": [],
   "source": []
  }
 ],
 "metadata": {
  "kernelspec": {
   "display_name": "Python 3",
   "language": "python",
   "name": "python3"
  },
  "language_info": {
   "codemirror_mode": {
    "name": "ipython",
    "version": 3
   },
   "file_extension": ".py",
   "mimetype": "text/x-python",
   "name": "python",
   "nbconvert_exporter": "python",
   "pygments_lexer": "ipython3",
   "version": "3.8.5"
  }
 },
 "nbformat": 4,
 "nbformat_minor": 5
}
